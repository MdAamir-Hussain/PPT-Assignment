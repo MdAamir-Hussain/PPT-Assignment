{
 "cells": [
  {
   "cell_type": "code",
   "execution_count": 1,
   "id": "056e615e-c20f-4b9b-9286-e18ef81c2ee0",
   "metadata": {},
   "outputs": [
    {
     "name": "stdout",
     "output_type": "stream",
     "text": [
      "Mean sales for Region A: 11.8\n",
      "Mean sales for Region B: 20.2\n"
     ]
    }
   ],
   "source": [
    "#1.\n",
    "def calculate_mean_sales(region_sales):\n",
    "    total_sales = sum(region_sales)\n",
    "    mean_sales = total_sales/len(region_sales)\n",
    "    return mean_sales\n",
    "\n",
    "region_a_sales = [10,15,12,8,14]\n",
    "region_b_sales = [18,20,16,22,25]\n",
    "\n",
    "mean_sales_region_a = calculate_mean_sales(region_a_sales)\n",
    "mean_sales_region_b = calculate_mean_sales(region_b_sales)\n",
    "\n",
    "print(\"Mean sales for Region A:\", mean_sales_region_a)\n",
    "print(\"Mean sales for Region B:\", mean_sales_region_b)"
   ]
  },
  {
   "cell_type": "code",
   "execution_count": 2,
   "id": "ac94558a-9f93-4d21-b43c-86ee33c549cc",
   "metadata": {},
   "outputs": [
    {
     "name": "stdout",
     "output_type": "stream",
     "text": [
      "Mode of the survey responses: 4\n"
     ]
    }
   ],
   "source": [
    "#2\n",
    "import statistics\n",
    "\n",
    "survey_responses = [4, 5, 2, 3, 5, 4, 3, 2, 4, 5]\n",
    "\n",
    "mode = statistics.mode(survey_responses)\n",
    "\n",
    "print(\"Mode of the survey responses:\", mode)\n"
   ]
  },
  {
   "cell_type": "code",
   "execution_count": 3,
   "id": "b362cf06-f8e4-4ef3-85ab-8d79ad7380d9",
   "metadata": {},
   "outputs": [
    {
     "name": "stdout",
     "output_type": "stream",
     "text": [
      "Median salary for Department A: 5750.0\n",
      "Median salary for Department B: 5500\n"
     ]
    }
   ],
   "source": [
    "#3\n",
    "import statistics\n",
    "\n",
    "department_a_salaries = [5000, 6000, 5500, 7000]\n",
    "department_b_salaries = [4500, 5500, 5800, 6000, 5200]\n",
    "\n",
    "median_a = statistics.median(department_a_salaries)\n",
    "median_b = statistics.median(department_b_salaries)\n",
    "\n",
    "print(\"Median salary for Department A:\", median_a)\n",
    "print(\"Median salary for Department B:\", median_b)\n"
   ]
  },
  {
   "cell_type": "code",
   "execution_count": 4,
   "id": "781cbd93-d393-4724-b69f-a0b9a65d161b",
   "metadata": {},
   "outputs": [
    {
     "name": "stdout",
     "output_type": "stream",
     "text": [
      "Range of stock prices: 1.3000000000000007\n"
     ]
    }
   ],
   "source": [
    "#4\n",
    "stock_prices = [25.5, 24.8, 26.1, 25.3, 24.9]\n",
    "\n",
    "price_range = max(stock_prices) - min(stock_prices)\n",
    "\n",
    "print(\"Range of stock prices:\", price_range)\n"
   ]
  },
  {
   "cell_type": "code",
   "execution_count": 5,
   "id": "2a66f9cf-88fd-47fb-8691-14f8b857cc6d",
   "metadata": {},
   "outputs": [
    {
     "name": "stdout",
     "output_type": "stream",
     "text": [
      "T-Statistic: 1.4312528946642733\n",
      "P-Value: 0.19023970239078333\n",
      "There is no significant difference in the mean scores between the two groups.\n"
     ]
    }
   ],
   "source": [
    "#5\n",
    "from scipy import stats\n",
    "\n",
    "group_a_scores = [85, 90, 92, 88, 91]\n",
    "group_b_scores = [82, 88, 90, 86, 87]\n",
    "\n",
    "t_statistic, p_value = stats.ttest_ind(group_a_scores, group_b_scores)\n",
    "\n",
    "alpha = 0.05\n",
    "\n",
    "print(\"T-Statistic:\", t_statistic)\n",
    "print(\"P-Value:\", p_value)\n",
    "\n",
    "if p_value < alpha:\n",
    "    print(\"There is a significant difference in the mean scores between the two groups.\")\n",
    "else:\n",
    "    print(\"There is no significant difference in the mean scores between the two groups.\")\n"
   ]
  },
  {
   "cell_type": "code",
   "execution_count": 6,
   "id": "395c8387-c25e-4a80-960e-3edd14f33df0",
   "metadata": {},
   "outputs": [
    {
     "name": "stdout",
     "output_type": "stream",
     "text": [
      "Correlation coefficient: 0.8757511375750132\n"
     ]
    }
   ],
   "source": [
    "#6\n",
    "import numpy as np\n",
    "\n",
    "advertising_expenditure = [10, 15, 12, 8, 14]\n",
    "sales = [25, 30, 28, 20, 26]\n",
    "\n",
    "correlation_coefficient = np.corrcoef(advertising_expenditure, sales)[0, 1]\n",
    "\n",
    "print(\"Correlation coefficient:\", correlation_coefficient)\n"
   ]
  },
  {
   "cell_type": "code",
   "execution_count": 7,
   "id": "ff2d6555-9ac9-456b-ab77-b683e6a3fc90",
   "metadata": {},
   "outputs": [
    {
     "name": "stdout",
     "output_type": "stream",
     "text": [
      "Standard deviation of the heights: 8.591246929842246\n"
     ]
    }
   ],
   "source": [
    "#7\n",
    "import statistics\n",
    "\n",
    "heights = [160, 170, 165, 155, 175, 180, 170]\n",
    "\n",
    "standard_deviation = statistics.stdev(heights)\n",
    "\n",
    "print(\"Standard deviation of the heights:\", standard_deviation)\n"
   ]
  },
  {
   "cell_type": "code",
   "execution_count": 8,
   "id": "803f5c36-9d88-4383-9dfe-1f0ab7df1b22",
   "metadata": {},
   "outputs": [
    {
     "name": "stdout",
     "output_type": "stream",
     "text": [
      "Slope: -0.4680851063829787\n",
      "Intercept: 8.595744680851062\n",
      "R-squared: 0.27099664053751393\n",
      "P-value: 0.23095550952297988\n",
      "Standard error: 0.34333860006713723\n"
     ]
    }
   ],
   "source": [
    "#8\n",
    "from scipy import stats\n",
    "\n",
    "employee_tenure = [2, 3, 5, 4, 6, 2, 4]\n",
    "job_satisfaction = [7, 8, 6, 9, 5, 7, 6]\n",
    "\n",
    "slope, intercept, r_value, p_value, std_err = stats.linregress(employee_tenure, job_satisfaction)\n",
    "\n",
    "print(\"Slope:\", slope)\n",
    "print(\"Intercept:\", intercept)\n",
    "print(\"R-squared:\", r_value**2)\n",
    "print(\"P-value:\", p_value)\n",
    "print(\"Standard error:\", std_err)\n"
   ]
  },
  {
   "cell_type": "code",
   "execution_count": 9,
   "id": "13605ca8-1499-427b-a45b-232e1957d730",
   "metadata": {},
   "outputs": [
    {
     "name": "stdout",
     "output_type": "stream",
     "text": [
      "F-Statistic: 16.0\n",
      "P-Value: 0.003949772803445326\n",
      "There is a significant difference in the mean recovery times between the two medications.\n"
     ]
    }
   ],
   "source": [
    "#9\n",
    "from scipy import stats\n",
    "\n",
    "medication_a_recovery_times = [10, 12, 14, 11, 13]\n",
    "medication_b_recovery_times = [15, 17, 16, 14, 18]\n",
    "\n",
    "f_statistic, p_value = stats.f_oneway(medication_a_recovery_times, medication_b_recovery_times)\n",
    "\n",
    "alpha = 0.05\n",
    "\n",
    "print(\"F-Statistic:\", f_statistic)\n",
    "print(\"P-Value:\", p_value)\n",
    "\n",
    "if p_value < alpha:\n",
    "    print(\"There is a significant difference in the mean recovery times between the two medications.\")\n",
    "else:\n",
    "    print(\"There is no significant difference in the mean recovery times between the two medications.\")\n"
   ]
  },
  {
   "cell_type": "code",
   "execution_count": 10,
   "id": "a2f47747-2075-4277-ac2c-43e2600b3029",
   "metadata": {},
   "outputs": [
    {
     "name": "stdout",
     "output_type": "stream",
     "text": [
      "75th percentile of the feedback ratings: 8.75\n"
     ]
    }
   ],
   "source": [
    "#10\n",
    "import numpy as np\n",
    "\n",
    "feedback_ratings = [8, 9, 7, 6, 8, 10, 9, 8, 7, 8]\n",
    "\n",
    "percentile_75 = np.percentile(feedback_ratings, 75)\n",
    "\n",
    "print(\"75th percentile of the feedback ratings:\", percentile_75)\n"
   ]
  },
  {
   "cell_type": "code",
   "execution_count": 11,
   "id": "51d74d01-6529-48e4-b214-f1f824eddb1b",
   "metadata": {},
   "outputs": [
    {
     "name": "stdout",
     "output_type": "stream",
     "text": [
      "T-Statistic: 1.5126584522688367\n",
      "P-Value: 0.19077595151110102\n",
      "The mean weight does not differ significantly from 10 grams.\n"
     ]
    }
   ],
   "source": [
    "#11\n",
    "from scipy import stats\n",
    "\n",
    "weights = [10.2, 9.8, 10.0, 10.5, 10.3, 10.1]\n",
    "\n",
    "alpha = 0.05\n",
    "mu = 10\n",
    "\n",
    "t_statistic, p_value = stats.ttest_1samp(weights, mu)\n",
    "\n",
    "print(\"T-Statistic:\", t_statistic)\n",
    "print(\"P-Value:\", p_value)\n",
    "\n",
    "if p_value < alpha:\n",
    "    print(\"The mean weight differs significantly from 10 grams.\")\n",
    "else:\n",
    "    print(\"The mean weight does not differ significantly from 10 grams.\")\n"
   ]
  },
  {
   "cell_type": "code",
   "execution_count": 2,
   "id": "b63c14fb-b3ac-455f-98cf-d3c60bc3e5a9",
   "metadata": {},
   "outputs": [
    {
     "name": "stdout",
     "output_type": "stream",
     "text": [
      "Chi-square statistic: [2.22222222 5.97560976 2.         0.13513514 0.12820513]\n",
      "P-Value: [0.13603713 0.01450507 0.15729921 0.71316606 0.72030033]\n"
     ]
    }
   ],
   "source": [
    "#12.\n",
    "from scipy import stats\n",
    "\n",
    "design_a_clicks = [100, 120, 110, 90, 95]\n",
    "design_b_clicks = [80, 85, 90, 95, 100]\n",
    "\n",
    "observed = [design_a_clicks, design_b_clicks]\n",
    "\n",
    "chi2, p_value = stats.chisquare(observed)\n",
    "\n",
    "alpha = 0.05\n",
    "\n",
    "print(\"Chi-square statistic:\", chi2)\n",
    "print(\"P-Value:\", p_value)\n",
    "\n",
    " "
   ]
  },
  {
   "cell_type": "code",
   "execution_count": 3,
   "id": "c4a720ba-5da5-47f8-b82e-e681cabee1b7",
   "metadata": {},
   "outputs": [
    {
     "name": "stdout",
     "output_type": "stream",
     "text": [
      "95% Confidence Interval: (7.043561120599888, 8.756438879400113)\n"
     ]
    }
   ],
   "source": [
    "#13.\n",
    "from scipy import stats\n",
    "import numpy as np\n",
    "\n",
    "satisfaction_scores = [7, 9, 6, 8, 10, 7, 8, 9, 7, 8]\n",
    "\n",
    "confidence_interval = stats.t.interval(0.95, len(satisfaction_scores)-1, loc=np.mean(satisfaction_scores), scale=stats.sem(satisfaction_scores))\n",
    "\n",
    "print(\"95% Confidence Interval:\", confidence_interval)\n"
   ]
  },
  {
   "cell_type": "code",
   "execution_count": 4,
   "id": "aad55fb0-80ef-468e-ab56-2e0f2066d701",
   "metadata": {},
   "outputs": [
    {
     "name": "stdout",
     "output_type": "stream",
     "text": [
      "Slope: 0.5\n",
      "Intercept: -2.9000000000000004\n",
      "R-squared: 0.4807692307692307\n",
      "P-value: 0.19417134561205843\n",
      "Standard error: 0.30000000000000004\n"
     ]
    }
   ],
   "source": [
    "#14\n",
    "from scipy import stats\n",
    "\n",
    "temperature = [20, 22, 23, 19, 21]\n",
    "performance = [8, 7, 9, 6, 8]\n",
    "\n",
    "slope, intercept, r_value, p_value, std_err = stats.linregress(temperature, performance)\n",
    "\n",
    "print(\"Slope:\", slope)\n",
    "print(\"Intercept:\", intercept)\n",
    "print(\"R-squared:\", r_value**2)\n",
    "print(\"P-value:\", p_value)\n",
    "print(\"Standard error:\", std_err)\n"
   ]
  },
  {
   "cell_type": "code",
   "execution_count": 5,
   "id": "221b0f98-4509-429c-ab17-ad62e907964f",
   "metadata": {},
   "outputs": [
    {
     "name": "stdout",
     "output_type": "stream",
     "text": [
      "U-Statistic: 17.0\n",
      "P-Value: 0.380836480306712\n",
      "There is no significant difference in the median preferences between the two groups.\n"
     ]
    }
   ],
   "source": [
    "#15\n",
    "from scipy import stats\n",
    "\n",
    "group_a_preferences = [4, 3, 5, 2, 4]\n",
    "group_b_preferences = [3, 2, 4, 3, 3]\n",
    "\n",
    "u_statistic, p_value = stats.mannwhitneyu(group_a_preferences, group_b_preferences, alternative='two-sided')\n",
    "\n",
    "alpha = 0.05\n",
    "\n",
    "print(\"U-Statistic:\", u_statistic)\n",
    "print(\"P-Value:\", p_value)\n",
    "\n",
    "if p_value < alpha:\n",
    "    print(\"There is a significant difference in the median preferences between the two groups.\")\n",
    "else:\n",
    "    print(\"There is no significant difference in the median preferences between the two groups.\")\n"
   ]
  },
  {
   "cell_type": "code",
   "execution_count": 6,
   "id": "ef1e7053-dea8-46a9-b9f9-c360ea432ec0",
   "metadata": {},
   "outputs": [
    {
     "name": "stdout",
     "output_type": "stream",
     "text": [
      "Interquartile Range (IQR) of the ages: 22.5\n"
     ]
    }
   ],
   "source": [
    "#16\n",
    "import numpy as np\n",
    "\n",
    "customer_ages = [25, 30, 35, 40, 45, 50, 55, 60, 65, 70]\n",
    "\n",
    "q1 = np.percentile(customer_ages, 25)\n",
    "q3 = np.percentile(customer_ages, 75)\n",
    "\n",
    "iqr = q3 - q1\n",
    "\n",
    "print(\"Interquartile Range (IQR) of the ages:\", iqr)\n"
   ]
  },
  {
   "cell_type": "code",
   "execution_count": 7,
   "id": "38bd7d53-0de4-44b0-a18e-5baac9fdf3b3",
   "metadata": {},
   "outputs": [
    {
     "name": "stdout",
     "output_type": "stream",
     "text": [
      "H-Statistic: 9.696947935368053\n",
      "P-Value: 0.007840333026249539\n",
      "There is a significant difference in the median accuracy scores between the algorithms.\n"
     ]
    }
   ],
   "source": [
    "#17\n",
    "from scipy import stats\n",
    "\n",
    "algorithm_a_scores = [0.85, 0.80, 0.82, 0.87, 0.83]\n",
    "algorithm_b_scores = [0.78, 0.82, 0.84, 0.80, 0.79]\n",
    "algorithm_c_scores = [0.90, 0.88, 0.89, 0.86, 0.87]\n",
    "\n",
    "h_statistic, p_value = stats.kruskal(algorithm_a_scores, algorithm_b_scores, algorithm_c_scores)\n",
    "\n",
    "alpha = 0.05\n",
    "\n",
    "print(\"H-Statistic:\", h_statistic)\n",
    "print(\"P-Value:\", p_value)\n",
    "\n",
    "if p_value < alpha:\n",
    "    print(\"There is a significant difference in the median accuracy scores between the algorithms.\")\n",
    "else:\n",
    "    print(\"There is no significant difference in the median accuracy scores between the algorithms.\")\n"
   ]
  },
  {
   "cell_type": "code",
   "execution_count": 8,
   "id": "db0c1301-654b-4b8b-994a-2bbec7aa5af0",
   "metadata": {},
   "outputs": [
    {
     "name": "stdout",
     "output_type": "stream",
     "text": [
      "Slope: -3.506097560975609\n",
      "Intercept: 136.3719512195122\n",
      "R-squared: 0.8064024390243901\n",
      "P-value: 0.03850178234753776\n",
      "Standard error: 0.9918303504036147\n"
     ]
    }
   ],
   "source": [
    "#18\n",
    "from scipy import stats\n",
    "\n",
    "price = [10, 15, 12, 8, 14]\n",
    "sales = [100, 80, 90, 110, 95]\n",
    "\n",
    "slope, intercept, r_value, p_value, std_err = stats.linregress(price, sales)\n",
    "\n",
    "print(\"Slope:\", slope)\n",
    "print(\"Intercept:\", intercept)\n",
    "print(\"R-squared:\", r_value**2)\n",
    "print(\"P-value:\", p_value)\n",
    "print(\"Standard error:\", std_err)\n"
   ]
  },
  {
   "cell_type": "code",
   "execution_count": 9,
   "id": "336f0155-b0f5-4839-ab8e-9cebbf837b33",
   "metadata": {},
   "outputs": [
    {
     "name": "stdout",
     "output_type": "stream",
     "text": [
      "Standard Error of the Mean Satisfaction Score: 0.28982753492378877\n"
     ]
    }
   ],
   "source": [
    "#19\n",
    "import numpy as np\n",
    "\n",
    "satisfaction_scores = [7, 8, 9, 6, 8, 7, 9, 7, 8, 7]\n",
    "\n",
    "standard_error = np.std(satisfaction_scores) / np.sqrt(len(satisfaction_scores))\n",
    "\n",
    "print(\"Standard Error of the Mean Satisfaction Score:\", standard_error)\n"
   ]
  },
  {
   "cell_type": "code",
   "execution_count": 10,
   "id": "e6375105-bab4-4b8c-a927-af62f6c98912",
   "metadata": {},
   "outputs": [
    {
     "name": "stdout",
     "output_type": "stream",
     "text": [
      "                            OLS Regression Results                            \n",
      "==============================================================================\n",
      "Dep. Variable:                      y   R-squared:                       0.767\n",
      "Model:                            OLS   Adj. R-squared:                  0.689\n",
      "Method:                 Least Squares   F-statistic:                     9.872\n",
      "Date:                Tue, 11 Jul 2023   Prob (F-statistic):             0.0516\n",
      "Time:                        11:53:31   Log-Likelihood:                -9.5288\n",
      "No. Observations:                   5   AIC:                             23.06\n",
      "Df Residuals:                       3   BIC:                             22.28\n",
      "Df Model:                           1                                         \n",
      "Covariance Type:            nonrobust                                         \n",
      "==============================================================================\n",
      "                 coef    std err          t      P>|t|      [0.025      0.975]\n",
      "------------------------------------------------------------------------------\n",
      "const         12.2012      4.429      2.755      0.070      -1.893      26.296\n",
      "x1             1.1524      0.367      3.142      0.052      -0.015       2.320\n",
      "==============================================================================\n",
      "Omnibus:                          nan   Durbin-Watson:                   1.136\n",
      "Prob(Omnibus):                    nan   Jarque-Bera (JB):                0.546\n",
      "Skew:                          -0.267   Prob(JB):                        0.761\n",
      "Kurtosis:                       1.471   Cond. No.                         57.3\n",
      "==============================================================================\n",
      "\n",
      "Notes:\n",
      "[1] Standard Errors assume that the covariance matrix of the errors is correctly specified.\n"
     ]
    },
    {
     "name": "stderr",
     "output_type": "stream",
     "text": [
      "/opt/conda/lib/python3.10/site-packages/statsmodels/stats/stattools.py:74: ValueWarning: omni_normtest is not valid with less than 8 observations; 5 samples were given.\n",
      "  warn(\"omni_normtest is not valid with less than 8 observations; %i \"\n"
     ]
    }
   ],
   "source": [
    "#20\n",
    "import numpy as np\n",
    "import statsmodels.api as sm\n",
    "\n",
    "advertising_expenditure = [10, 15, 12, 8, 14]\n",
    "sales = [25, 30, 28, 20, 26]\n",
    "\n",
    "expenditure_with_constant = sm.add_constant(advertising_expenditure)\n",
    "model = sm.OLS(sales, expenditure_with_constant)\n",
    "results = model.fit()\n",
    "\n",
    "print(results.summary())\n"
   ]
  },
  {
   "cell_type": "code",
   "execution_count": null,
   "id": "f5a9149f-daf2-4811-a634-a3a9442b5cfb",
   "metadata": {},
   "outputs": [],
   "source": []
  }
 ],
 "metadata": {
  "kernelspec": {
   "display_name": "Python 3 (ipykernel)",
   "language": "python",
   "name": "python3"
  },
  "language_info": {
   "codemirror_mode": {
    "name": "ipython",
    "version": 3
   },
   "file_extension": ".py",
   "mimetype": "text/x-python",
   "name": "python",
   "nbconvert_exporter": "python",
   "pygments_lexer": "ipython3",
   "version": "3.10.8"
  }
 },
 "nbformat": 4,
 "nbformat_minor": 5
}
