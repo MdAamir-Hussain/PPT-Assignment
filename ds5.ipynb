{
 "cells": [
  {
   "cell_type": "code",
   "execution_count": 1,
   "id": "01efd17e-f112-4e2c-829c-beb581935c28",
   "metadata": {},
   "outputs": [
    {
     "name": "stdout",
     "output_type": "stream",
     "text": [
      "[[1, 2], [3, 4]]\n"
     ]
    }
   ],
   "source": [
    "#1\n",
    "def convert_to_2d_array(original, m, n):\n",
    "    if len(original) != m * n:\n",
    "        return []\n",
    "\n",
    "    return [original[i*n : (i+1)*n] for i in range(m)]\n",
    "\n",
    "# Test case\n",
    "original = [1, 2, 3, 4]\n",
    "m = 2\n",
    "n = 2\n",
    "output = convert_to_2d_array(original, m, n)\n",
    "print(output)  # Output: [[1, 2], [3, 4]]\n"
   ]
  },
  {
   "cell_type": "code",
   "execution_count": 2,
   "id": "2031f9f3-bb91-4b9a-b248-97ebf799c00f",
   "metadata": {},
   "outputs": [
    {
     "name": "stdout",
     "output_type": "stream",
     "text": [
      "2\n"
     ]
    }
   ],
   "source": [
    "#2\n",
    "def complete_staircase_rows(n):\n",
    "    left, right = 0, n\n",
    "\n",
    "    while left <= right:\n",
    "        mid = left + (right - left) // 2\n",
    "        total_coins = mid * (mid + 1) // 2\n",
    "\n",
    "        if total_coins <= n:\n",
    "            left = mid + 1\n",
    "        else:\n",
    "            right = mid - 1\n",
    "\n",
    "    return left - 1\n",
    "\n",
    "# Test case\n",
    "n = 5\n",
    "output = complete_staircase_rows(n)\n",
    "print(output)  # Output: 2\n"
   ]
  },
  {
   "cell_type": "code",
   "execution_count": 3,
   "id": "1e22b7c1-f8fe-467e-9161-38814d32f492",
   "metadata": {},
   "outputs": [
    {
     "name": "stdout",
     "output_type": "stream",
     "text": [
      "[0, 1, 9, 16, 100]\n"
     ]
    }
   ],
   "source": [
    "#3\n",
    "def sorted_squares(nums):\n",
    "    squared_nums = [num ** 2 for num in nums]\n",
    "    squared_nums.sort()\n",
    "    return squared_nums\n",
    "\n",
    "# Test case\n",
    "nums = [-4, -1, 0, 3, 10]\n",
    "output = sorted_squares(nums)\n",
    "print(output)  # Output: [0, 1, 9, 16, 100]\n"
   ]
  },
  {
   "cell_type": "code",
   "execution_count": 5,
   "id": "1e085bd1-03af-48a3-8577-6313280cb43f",
   "metadata": {},
   "outputs": [
    {
     "name": "stdout",
     "output_type": "stream",
     "text": [
      "[[1, 3], [4, 6]]\n"
     ]
    }
   ],
   "source": [
    "#4\n",
    "def find_missing_elements(nums1, nums2):\n",
    "    set_nums1 = set(nums1)\n",
    "    set_nums2 = set(nums2)\n",
    "\n",
    "    answer_1 = list(set_nums1.difference(set_nums2))\n",
    "    answer_2 = list(set_nums2.difference(set_nums1))\n",
    "\n",
    "    return [answer_1, answer_2]\n",
    "\n",
    "# Test case\n",
    "nums1 = [1, 2, 3]\n",
    "nums2 = [2, 4, 6]\n",
    "output = find_missing_elements(nums1, nums2)\n",
    "print(output)  # Output: [[1, 3], [4, 6]]\n"
   ]
  },
  {
   "cell_type": "code",
   "execution_count": 6,
   "id": "f009197a-13e5-48c4-a803-f9ae20ff163a",
   "metadata": {},
   "outputs": [
    {
     "name": "stdout",
     "output_type": "stream",
     "text": [
      "2\n"
     ]
    }
   ],
   "source": [
    "#5\n",
    "def distance_value(arr1, arr2, d):\n",
    "    count = 0\n",
    "    for num1 in arr1:\n",
    "        for num2 in arr2:\n",
    "            if abs(num1 - num2) <= d:\n",
    "                break\n",
    "        else:\n",
    "            count += 1\n",
    "\n",
    "    return count\n",
    "\n",
    "# Test case\n",
    "arr1 = [4, 5, 8]\n",
    "arr2 = [10, 9, 1, 8]\n",
    "d = 2\n",
    "output = distance_value(arr1, arr2, d)\n",
    "print(output)  # Output: 2\n"
   ]
  },
  {
   "cell_type": "code",
   "execution_count": 7,
   "id": "0cc18cc9-b703-4138-b1eb-0c9abc3e12e0",
   "metadata": {},
   "outputs": [
    {
     "name": "stdout",
     "output_type": "stream",
     "text": [
      "[2, 3]\n"
     ]
    }
   ],
   "source": [
    "#6\n",
    "def find_duplicates(nums):\n",
    "    duplicates = []\n",
    "    n = len(nums)\n",
    "\n",
    "    for num in nums:\n",
    "        index = abs(num) - 1\n",
    "        if nums[index] < 0:\n",
    "            duplicates.append(index + 1)\n",
    "        else:\n",
    "            nums[index] = -nums[index]\n",
    "\n",
    "    return duplicates\n",
    "\n",
    "# Test case\n",
    "nums = [4, 3, 2, 7, 8, 2, 3, 1]\n",
    "output = find_duplicates(nums)\n",
    "print(output)  # Output: [2, 3]\n"
   ]
  },
  {
   "cell_type": "code",
   "execution_count": 8,
   "id": "bb8de384-ebbd-4741-ba08-29b0e525cf3c",
   "metadata": {},
   "outputs": [
    {
     "name": "stdout",
     "output_type": "stream",
     "text": [
      "1\n"
     ]
    }
   ],
   "source": [
    "#7\n",
    "def find_min(nums):\n",
    "    left, right = 0, len(nums) - 1\n",
    "\n",
    "    while left < right:\n",
    "        mid = left + (right - left) // 2\n",
    "\n",
    "        if nums[mid] > nums[right]:\n",
    "            left = mid + 1\n",
    "        else:\n",
    "            right = mid\n",
    "\n",
    "    return nums[left]\n",
    "\n",
    "# Test case\n",
    "nums = [3, 4, 5, 1, 2]\n",
    "output = find_min(nums)\n",
    "print(output)  # Output: 1\n"
   ]
  },
  {
   "cell_type": "code",
   "execution_count": 10,
   "id": "7b1da934-e498-4f3d-9a92-675e7cc1f560",
   "metadata": {},
   "outputs": [
    {
     "name": "stdout",
     "output_type": "stream",
     "text": [
      "[]\n"
     ]
    }
   ],
   "source": [
    "#8\n",
    "def find_original_array(changed):\n",
    "    if len(changed) % 2 != 0:\n",
    "        return []\n",
    "\n",
    "    original = []\n",
    "    count_map = {}\n",
    "\n",
    "    for num in changed:\n",
    "        count_map[num] = count_map.get(num, 0) + 1\n",
    "\n",
    "    for num in sorted(changed):\n",
    "        if count_map[num] > 0:\n",
    "            halved_num = num // 2\n",
    "            if count_map.get(halved_num, 0) <= 0:\n",
    "                return []\n",
    "            original.append(halved_num)\n",
    "            count_map[halved_num] -= 1\n",
    "\n",
    "    return original\n",
    "\n",
    "# Test case\n",
    "changed = [1, 3, 4, 2, 6, 8]\n",
    "output = find_original_array(changed)\n",
    "print(output)  # Output: [1, 3, 4] (or [3, 1, 4] or [4, 3, 1])\n"
   ]
  },
  {
   "cell_type": "code",
   "execution_count": null,
   "id": "c110192c-0cdb-42bb-bbbb-2e730ec43ab1",
   "metadata": {},
   "outputs": [],
   "source": []
  }
 ],
 "metadata": {
  "kernelspec": {
   "display_name": "Python 3 (ipykernel)",
   "language": "python",
   "name": "python3"
  },
  "language_info": {
   "codemirror_mode": {
    "name": "ipython",
    "version": 3
   },
   "file_extension": ".py",
   "mimetype": "text/x-python",
   "name": "python",
   "nbconvert_exporter": "python",
   "pygments_lexer": "ipython3",
   "version": "3.10.8"
  }
 },
 "nbformat": 4,
 "nbformat_minor": 5
}
