{
 "cells": [
  {
   "cell_type": "code",
   "execution_count": 1,
   "id": "69fb6dec-7712-47a6-abf0-18bac3b7836e",
   "metadata": {},
   "outputs": [
    {
     "name": "stdout",
     "output_type": "stream",
     "text": [
      "True\n",
      "False\n",
      "True\n"
     ]
    }
   ],
   "source": [
    "#1\n",
    "def are_isomorphic(s, t):\n",
    "    if len(s) != len(t):\n",
    "        return False\n",
    "\n",
    "    char_mapping = {}\n",
    "    used_chars = set()\n",
    "\n",
    "    for i in range(len(s)):\n",
    "        char_s = s[i]\n",
    "        char_t = t[i]\n",
    "\n",
    "        if char_s in char_mapping:\n",
    "            if char_mapping[char_s] != char_t:\n",
    "                return False\n",
    "        else:\n",
    "            if char_t in used_chars:\n",
    "                return False\n",
    "\n",
    "            char_mapping[char_s] = char_t\n",
    "            used_chars.add(char_t)\n",
    "\n",
    "    return True\n",
    "\n",
    "# Test cases\n",
    "print(are_isomorphic(\"egg\", \"add\"))  # Output: True\n",
    "print(are_isomorphic(\"foo\", \"bar\"))  # Output: False\n",
    "print(are_isomorphic(\"paper\", \"title\"))  # Output: True\n",
    "\n"
   ]
  },
  {
   "cell_type": "code",
   "execution_count": 2,
   "id": "46bbaf8f-1d6a-48bb-8850-e75f79702659",
   "metadata": {},
   "outputs": [
    {
     "name": "stdout",
     "output_type": "stream",
     "text": [
      "True\n",
      "True\n",
      "True\n",
      "False\n"
     ]
    }
   ],
   "source": [
    "#2\n",
    "def is_strobogrammatic(num):\n",
    "    strobogrammatic_pairs = {'0': '0', '1': '1', '6': '9', '8': '8', '9': '6'}\n",
    "    left, right = 0, len(num) - 1\n",
    "\n",
    "    while left <= right:\n",
    "        left_digit = num[left]\n",
    "        right_digit = num[right]\n",
    "\n",
    "        if left_digit not in strobogrammatic_pairs or strobogrammatic_pairs[left_digit] != right_digit:\n",
    "            return False\n",
    "\n",
    "        left += 1\n",
    "        right -= 1\n",
    "\n",
    "    return True\n",
    "\n",
    "# Test cases\n",
    "print(is_strobogrammatic(\"69\"))  # Output: True\n",
    "print(is_strobogrammatic(\"88\"))  # Output: True\n",
    "print(is_strobogrammatic(\"818\"))  # Output: True\n",
    "print(is_strobogrammatic(\"123\"))  # Output: False\n"
   ]
  },
  {
   "cell_type": "code",
   "execution_count": 3,
   "id": "7a9884e0-45e1-4cd3-a634-87c0c98a1320",
   "metadata": {},
   "outputs": [
    {
     "name": "stdout",
     "output_type": "stream",
     "text": [
      "134\n",
      "1245\n",
      "0\n"
     ]
    }
   ],
   "source": [
    "#3\n",
    "def add_strings(num1, num2):\n",
    "    result = []\n",
    "    carry = 0\n",
    "    i, j = len(num1) - 1, len(num2) - 1\n",
    "\n",
    "    while i >= 0 or j >= 0 or carry > 0:\n",
    "        digit1 = int(num1[i]) if i >= 0 else 0\n",
    "        digit2 = int(num2[j]) if j >= 0 else 0\n",
    "\n",
    "        total = digit1 + digit2 + carry\n",
    "        carry = total // 10\n",
    "        result.append(str(total % 10))\n",
    "\n",
    "        i -= 1\n",
    "        j -= 1\n",
    "\n",
    "    return ''.join(result[::-1])\n",
    "\n",
    "# Test case\n",
    "print(add_strings(\"11\", \"123\"))  # Output: \"134\"\n",
    "print(add_strings(\"456\", \"789\"))  # Output: \"1245\"\n",
    "print(add_strings(\"0\", \"0\"))  # Output: \"0\"\n"
   ]
  },
  {
   "cell_type": "code",
   "execution_count": 4,
   "id": "9b8c4609-8010-4021-8b1a-67f3f5188cf0",
   "metadata": {},
   "outputs": [
    {
     "name": "stdout",
     "output_type": "stream",
     "text": [
      "s'teL ekat edoCteeL tsetnoc\n"
     ]
    }
   ],
   "source": [
    "#4\n",
    "def reverse_words(s):\n",
    "    words = s.split()\n",
    "    reversed_words = [word[::-1] for word in words]\n",
    "    return ' '.join(reversed_words)\n",
    "\n",
    "# Test case\n",
    "input_str = \"Let's take LeetCode contest\"\n",
    "output_str = reverse_words(input_str)\n",
    "print(output_str)  # Output: \"s'teL ekat edoCteeL tsetnoc\"\n"
   ]
  },
  {
   "cell_type": "code",
   "execution_count": 5,
   "id": "dc255015-0e44-437f-bf24-0c6fc11532b9",
   "metadata": {},
   "outputs": [
    {
     "name": "stdout",
     "output_type": "stream",
     "text": [
      "bacdfeg\n"
     ]
    }
   ],
   "source": [
    "#5\n",
    "def reverse_segments(s, k):\n",
    "    result = []\n",
    "    for i in range(0, len(s), 2 * k):\n",
    "        segment = s[i:i + 2 * k]\n",
    "        reversed_segment = segment[:k][::-1] + segment[k:]\n",
    "        result.append(reversed_segment)\n",
    "    return ''.join(result)\n",
    "\n",
    "# Test case\n",
    "input_str = \"abcdefg\"\n",
    "k = 2\n",
    "output_str = reverse_segments(input_str, k)\n",
    "print(output_str)  # Output: \"bacdfeg\"\n"
   ]
  },
  {
   "cell_type": "code",
   "execution_count": 6,
   "id": "6a842661-8715-49b9-bbe2-ceb78e0e65fe",
   "metadata": {},
   "outputs": [
    {
     "name": "stdout",
     "output_type": "stream",
     "text": [
      "True\n"
     ]
    }
   ],
   "source": [
    "#6\n",
    "def can_shift_to_goal(s, goal):\n",
    "    if len(s) != len(goal):\n",
    "        return False\n",
    "\n",
    "    s_concat = s + s\n",
    "    return goal in s_concat\n",
    "\n",
    "# Test case\n",
    "s = \"abcde\"\n",
    "goal = \"cdeab\"\n",
    "print(can_shift_to_goal(s, goal))  # Output: True\n"
   ]
  },
  {
   "cell_type": "code",
   "execution_count": 7,
   "id": "44e41166-948c-4fdd-9bf1-8858d492bd63",
   "metadata": {},
   "outputs": [
    {
     "name": "stdout",
     "output_type": "stream",
     "text": [
      "True\n"
     ]
    }
   ],
   "source": [
    "#7\n",
    "def build_string(s):\n",
    "    stack = []\n",
    "    for char in s:\n",
    "        if char != '#':\n",
    "            stack.append(char)\n",
    "        elif stack:\n",
    "            stack.pop()\n",
    "    return ''.join(stack)\n",
    "\n",
    "def backspace_compare(s, t):\n",
    "    return build_string(s) == build_string(t)\n",
    "\n",
    "# Test case\n",
    "s = \"ab#c\"\n",
    "t = \"ad#c\"\n",
    "print(backspace_compare(s, t))  # Output: True\n"
   ]
  },
  {
   "cell_type": "code",
   "execution_count": 11,
   "id": "81254587-54a4-48ab-9bf2-14dd32aad2e1",
   "metadata": {},
   "outputs": [
    {
     "name": "stdout",
     "output_type": "stream",
     "text": [
      "True\n"
     ]
    }
   ],
   "source": [
    "#8\n",
    "#To check if a given array of coordinates represents points that make a straight line in the XY plane, we can calculate the slope between consecutive points. If the slope between all pairs of consecutive points is the same, then the points lie on a straight line.\n",
    "#The slope between two points (x1, y1) and (x2, y2) is given by (y2 - y1) / (x2 - x1).\n",
    "#In the check_straight_line function, we first handle the special cases when there are only 2 or fewer points in the coordinates list. In these cases, any two points can be considered to form a straight line.\n",
    "#For more than 2 points, we define the nested function get_slope to calculate the slope between two points. Then, we calculate the slope between the first two points and store it in the variable slope. \n",
    "#We then iterate over the rest of the points (starting from index 2) and compare the slopes between consecutive points with the initial slope. If any slope is different, we return False since the points do not form a straight line. \n",
    "#Otherwise, we return True if all slopes are the same, indicating that the points lie on a straight line.\n",
    "def check_straight_line(coordinates):\n",
    "    if len(coordinates) <= 2:\n",
    "        return True\n",
    "\n",
    "    def get_slope(point1, point2):\n",
    "        x1, y1 = point1\n",
    "        x2, y2 = point2\n",
    "        return (y2 - y1) / (x2 - x1) if x2 - x1 != 0 else float('inf')\n",
    "\n",
    "    slope = get_slope(coordinates[0], coordinates[1])\n",
    "    for i in range(2, len(coordinates)):\n",
    "        if get_slope(coordinates[i - 1], coordinates[i]) != slope:\n",
    "            return False\n",
    "\n",
    "    return True\n",
    "\n",
    "# Test case\n",
    "coordinates = [[1, 2], [2, 3], [3, 4], [4, 5], [5, 6], [6, 7]]\n",
    "print(check_straight_line(coordinates))  # Output: True\n"
   ]
  },
  {
   "cell_type": "code",
   "execution_count": null,
   "id": "1ccff803-a706-47bc-bc39-bab3b02bde50",
   "metadata": {},
   "outputs": [],
   "source": []
  }
 ],
 "metadata": {
  "kernelspec": {
   "display_name": "Python 3 (ipykernel)",
   "language": "python",
   "name": "python3"
  },
  "language_info": {
   "codemirror_mode": {
    "name": "ipython",
    "version": 3
   },
   "file_extension": ".py",
   "mimetype": "text/x-python",
   "name": "python",
   "nbconvert_exporter": "python",
   "pygments_lexer": "ipython3",
   "version": "3.10.8"
  }
 },
 "nbformat": 4,
 "nbformat_minor": 5
}
