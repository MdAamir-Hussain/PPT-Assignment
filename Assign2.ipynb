{
 "cells": [
  {
   "cell_type": "code",
   "execution_count": 1,
   "id": "8cbd3ab4-e40b-4525-b839-301fe4079b87",
   "metadata": {},
   "outputs": [
    {
     "name": "stdout",
     "output_type": "stream",
     "text": [
      "Result: 4\n"
     ]
    }
   ],
   "source": [
    "#1.\n",
    "def arrayPairSum(nums):\n",
    "    nums.sort()\n",
    "    max_sum = 0\n",
    "\n",
    "    for i in range(0, len(nums), 2):\n",
    "        max_sum += nums[i]\n",
    "\n",
    "    return max_sum\n",
    "\n",
    "# Example usage\n",
    "nums = [1, 4, 3, 2]\n",
    "result = arrayPairSum(nums)\n",
    "print(\"Result:\", result)  # Output: 4\n"
   ]
  },
  {
   "cell_type": "code",
   "execution_count": 2,
   "id": "d81f095d-5a19-4285-9472-7dfc2b6801a7",
   "metadata": {},
   "outputs": [
    {
     "name": "stdout",
     "output_type": "stream",
     "text": [
      "Result: 3\n"
     ]
    }
   ],
   "source": [
    "#2.\n",
    "def maxCandies(candyType):\n",
    "    unique_candies = set()\n",
    "\n",
    "    for candy in candyType:\n",
    "        unique_candies.add(candy)\n",
    "\n",
    "    return min(len(unique_candies), len(candyType) // 2)\n",
    "\n",
    "# Example usage\n",
    "candyType = [1, 1, 2, 2, 3, 3]\n",
    "result = maxCandies(candyType)\n",
    "print(\"Result:\", result)  # Output: 3\n"
   ]
  },
  {
   "cell_type": "code",
   "execution_count": 3,
   "id": "3063aef3-923a-40cf-905f-53199e6aedf1",
   "metadata": {},
   "outputs": [
    {
     "name": "stdout",
     "output_type": "stream",
     "text": [
      "Result: 5\n"
     ]
    }
   ],
   "source": [
    "#3.\n",
    "def findLHS(nums):\n",
    "    num_freq = {}\n",
    "\n",
    "    for num in nums:\n",
    "        num_freq[num] = num_freq.get(num, 0) + 1\n",
    "\n",
    "    max_length = 0\n",
    "\n",
    "    for num in num_freq:\n",
    "        if num + 1 in num_freq:\n",
    "            length = num_freq[num] + num_freq[num + 1]\n",
    "            max_length = max(max_length, length)\n",
    "\n",
    "    return max_length\n",
    "\n",
    "# Example usage\n",
    "nums = [1, 3, 2, 2, 5, 2, 3, 7]\n",
    "result = findLHS(nums)\n",
    "print(\"Result:\", result)  # Output: 5\n"
   ]
  },
  {
   "cell_type": "code",
   "execution_count": 4,
   "id": "19080e53-9a6c-49bd-b953-256c68d7a556",
   "metadata": {},
   "outputs": [
    {
     "name": "stdout",
     "output_type": "stream",
     "text": [
      "Result: True\n"
     ]
    }
   ],
   "source": [
    "#4.\n",
    "def canPlaceFlowers(flowerbed, n):\n",
    "    count = 0\n",
    "    length = len(flowerbed)\n",
    "\n",
    "    for i in range(length):\n",
    "        if flowerbed[i] == 0 and (i == 0 or flowerbed[i - 1] == 0) and (i == length - 1 or flowerbed[i + 1] == 0):\n",
    "            flowerbed[i] = 1\n",
    "            count += 1\n",
    "\n",
    "            if count == n:\n",
    "                return True\n",
    "\n",
    "    return count == n\n",
    "\n",
    "# Example usage\n",
    "flowerbed = [1, 0, 0, 0, 1]\n",
    "n = 1\n",
    "result = canPlaceFlowers(flowerbed, n)\n",
    "print(\"Result:\", result)  # Output: True\n"
   ]
  },
  {
   "cell_type": "code",
   "execution_count": 5,
   "id": "b3933437-0cc3-4f80-bc09-7266f4399db2",
   "metadata": {},
   "outputs": [
    {
     "name": "stdout",
     "output_type": "stream",
     "text": [
      "Result: 6\n"
     ]
    }
   ],
   "source": [
    "#5.\n",
    "def maximumProduct(nums):\n",
    "    nums.sort()\n",
    "\n",
    "    max_product = nums[-1] * nums[-2] * nums[-3]\n",
    "    neg_product = nums[0] * nums[1] * nums[-1]\n",
    "\n",
    "    return max(max_product, neg_product)\n",
    "\n",
    "# Example usage\n",
    "nums = [1, 2, 3]\n",
    "result = maximumProduct(nums)\n",
    "print(\"Result:\", result)  # Output: 6\n"
   ]
  },
  {
   "cell_type": "code",
   "execution_count": 6,
   "id": "ae19f258-b042-4a2c-82c5-c3dc3eef8cc5",
   "metadata": {},
   "outputs": [
    {
     "name": "stdout",
     "output_type": "stream",
     "text": [
      "Result: 4\n"
     ]
    }
   ],
   "source": [
    "#6.\n",
    "def search(nums, target):\n",
    "    left, right = 0, len(nums) - 1\n",
    "\n",
    "    while left <= right:\n",
    "        mid = (left + right) // 2\n",
    "\n",
    "        if nums[mid] == target:\n",
    "            return mid\n",
    "        elif nums[mid] > target:\n",
    "            right = mid - 1\n",
    "        else:\n",
    "            left = mid + 1\n",
    "\n",
    "    return -1\n",
    "\n",
    "# Example usage\n",
    "nums = [-1, 0, 3, 5, 9, 12]\n",
    "target = 9\n",
    "result = search(nums, target)\n",
    "print(\"Result:\", result)  # Output: 4\n"
   ]
  },
  {
   "cell_type": "code",
   "execution_count": 7,
   "id": "a0be2e2e-d560-44cf-9bd1-b83f3558c769",
   "metadata": {},
   "outputs": [
    {
     "name": "stdout",
     "output_type": "stream",
     "text": [
      "Result: True\n"
     ]
    }
   ],
   "source": [
    "#7.\n",
    "def isMonotonic(nums):\n",
    "    isIncreasing = True\n",
    "    isDecreasing = True\n",
    "\n",
    "    for i in range(1, len(nums)):\n",
    "        if nums[i] < nums[i - 1]:\n",
    "            isIncreasing = False\n",
    "        if nums[i] > nums[i - 1]:\n",
    "            isDecreasing = False\n",
    "        if not isIncreasing and not isDecreasing:\n",
    "            return False\n",
    "\n",
    "    return True\n",
    "\n",
    "# Example usage\n",
    "nums = [1, 2, 2, 3]\n",
    "result = isMonotonic(nums)\n",
    "print(\"Result:\", result)  # Output: True\n"
   ]
  },
  {
   "cell_type": "code",
   "execution_count": 8,
   "id": "815734db-06ad-46bd-9cdb-cfe1cb84fb21",
   "metadata": {},
   "outputs": [
    {
     "name": "stdout",
     "output_type": "stream",
     "text": [
      "Result: 0\n"
     ]
    }
   ],
   "source": [
    "#8.\n",
    "def minimumScore(nums, k):\n",
    "    min_num = float('inf')\n",
    "    max_num = float('-inf')\n",
    "\n",
    "    for num in nums:\n",
    "        min_num = min(min_num, num)\n",
    "        max_num = max(max_num, num)\n",
    "\n",
    "    if max_num - min_num <= 2 * k:\n",
    "        return 0\n",
    "    else:\n",
    "        return max_num - min_num - 2 * k\n",
    "\n",
    "# Example usage\n",
    "nums = [1]\n",
    "k = 0\n",
    "result = minimumScore(nums, k)\n",
    "print(\"Result:\", result)  # Output: 0\n"
   ]
  },
  {
   "cell_type": "code",
   "execution_count": null,
   "id": "2c6144b2-217d-40bf-9f6c-a185a15b08e9",
   "metadata": {},
   "outputs": [],
   "source": []
  }
 ],
 "metadata": {
  "kernelspec": {
   "display_name": "Python 3 (ipykernel)",
   "language": "python",
   "name": "python3"
  },
  "language_info": {
   "codemirror_mode": {
    "name": "ipython",
    "version": 3
   },
   "file_extension": ".py",
   "mimetype": "text/x-python",
   "name": "python",
   "nbconvert_exporter": "python",
   "pygments_lexer": "ipython3",
   "version": "3.10.8"
  }
 },
 "nbformat": 4,
 "nbformat_minor": 5
}
