{
 "cells": [
  {
   "cell_type": "code",
   "execution_count": 5,
   "id": "32cc71fb-3f6f-4cad-8d70-f672a6d70c20",
   "metadata": {},
   "outputs": [
    {
     "name": "stdin",
     "output_type": "stream",
     "text": [
      "Enter a string:  lol\n"
     ]
    },
    {
     "name": "stdout",
     "output_type": "stream",
     "text": [
      "Reversed string: lol\n"
     ]
    }
   ],
   "source": [
    "#1.\n",
    "def reverse_string(input_str):\n",
    "    reversed_str = \"\"\n",
    "    for char in input_str:\n",
    "        reversed_str = char + reversed_str\n",
    "    return reversed_str\n",
    "\n",
    "# Test the function\n",
    "string_to_reverse = input(\"Enter a string: \")\n",
    "reversed_string = reverse_string(string_to_reverse)\n",
    "print(\"Reversed string:\", reversed_string)\n"
   ]
  },
  {
   "cell_type": "code",
   "execution_count": 7,
   "id": "c4113147-f7a3-4b07-bf6e-a3fe7d574718",
   "metadata": {},
   "outputs": [
    {
     "name": "stdin",
     "output_type": "stream",
     "text": [
      "Enter a string:  lol\n"
     ]
    },
    {
     "name": "stdout",
     "output_type": "stream",
     "text": [
      "The string is a palindrome.\n"
     ]
    }
   ],
   "source": [
    "#2.\n",
    "def is_palindrome(input_str):\n",
    "    input_str = input_str.lower() #convert to lowecase for case-insensitive\n",
    "    left = 0\n",
    "    right = len(input_str)-1\n",
    "    \n",
    "    while left < right:\n",
    "        if input_str[left] != input_str[right]:\n",
    "            return False\n",
    "        left += 1\n",
    "        right -= 1\n",
    "        \n",
    "    return True\n",
    "\n",
    "string_to_check = input(\"Enter a string: \")\n",
    "if is_palindrome(string_to_check):\n",
    "    print(\"The string is a palindrome.\")\n",
    "else:\n",
    "    print(\"The string is not a palindrome.\")"
   ]
  },
  {
   "cell_type": "code",
   "execution_count": 1,
   "id": "5229f06a-6ff4-4cf2-9c31-c4e564d1b256",
   "metadata": {},
   "outputs": [
    {
     "name": "stdin",
     "output_type": "stream",
     "text": [
      "Enter a list of numbers (space-separated):  4 5 4 566 5\n"
     ]
    },
    {
     "name": "stdout",
     "output_type": "stream",
     "text": [
      "The largest element in the list is: 566\n"
     ]
    }
   ],
   "source": [
    "#3.\n",
    "def find_largest_element(lst):\n",
    "    if not lst:\n",
    "        return None  # Return None if the list is empty\n",
    "\n",
    "    largest = lst[0]  # Assume the first element is the largest\n",
    "\n",
    "    for element in lst:\n",
    "        if element > largest:\n",
    "            largest = element\n",
    "\n",
    "    return largest\n",
    "\n",
    "# Test the function\n",
    "input_list = input(\"Enter a list of numbers (space-separated): \").split()\n",
    "input_list = [int(num) for num in input_list]  # Convert input strings to integers\n",
    "largest_element = find_largest_element(input_list)\n",
    "print(\"The largest element in the list is:\", largest_element)\n"
   ]
  },
  {
   "cell_type": "code",
   "execution_count": 2,
   "id": "de928562-509a-4837-9345-b4ede9e71111",
   "metadata": {},
   "outputs": [
    {
     "name": "stdin",
     "output_type": "stream",
     "text": [
      "Enter a list of elements (space-separated):  1 2 3 2 1 45 \n"
     ]
    },
    {
     "name": "stdout",
     "output_type": "stream",
     "text": [
      "Occurrences: {'1': 2, '2': 2, '3': 1, '45': 1}\n"
     ]
    }
   ],
   "source": [
    "#4\n",
    "def count_occurrences(lst):\n",
    "    occurrence_count = {}\n",
    "    for element in lst:\n",
    "        if element in occurrence_count:\n",
    "            occurrence_count[element] += 1\n",
    "        else:\n",
    "            occurrence_count[element] = 1\n",
    "    return occurrence_count\n",
    "\n",
    "# Test the function\n",
    "input_list = input(\"Enter a list of elements (space-separated): \").split()\n",
    "occurrence_dict = count_occurrences(input_list)\n",
    "print(\"Occurrences:\", occurrence_dict)\n"
   ]
  },
  {
   "cell_type": "code",
   "execution_count": 3,
   "id": "10d59148-16b4-4f61-9a38-d8c0c3538144",
   "metadata": {},
   "outputs": [
    {
     "name": "stdin",
     "output_type": "stream",
     "text": [
      "Enter a list of numbers (space-separated):  2 32 2 1 23 \n"
     ]
    },
    {
     "name": "stdout",
     "output_type": "stream",
     "text": [
      "The second largest number in the list is: 23\n"
     ]
    }
   ],
   "source": [
    "#5.\n",
    "def find_second_largest(lst):\n",
    "    if len(lst) < 2:\n",
    "        return None  # Return None if the list has less than 2 elements\n",
    "\n",
    "    largest = max(lst[0], lst[1])\n",
    "    second_largest = min(lst[0], lst[1])\n",
    "\n",
    "    for i in range(2, len(lst)):\n",
    "        if lst[i] > largest:\n",
    "            second_largest = largest\n",
    "            largest = lst[i]\n",
    "        elif lst[i] > second_largest and lst[i] != largest:\n",
    "            second_largest = lst[i]\n",
    "\n",
    "    return second_largest\n",
    "\n",
    "# Test the function\n",
    "input_list = input(\"Enter a list of numbers (space-separated): \").split()\n",
    "input_list = [int(num) for num in input_list]  # Convert input strings to integers\n",
    "second_largest_number = find_second_largest(input_list)\n",
    "if second_largest_number is None:\n",
    "    print(\"The list does not contain enough elements.\")\n",
    "else:\n",
    "    print(\"The second largest number in the list is:\", second_largest_number)\n"
   ]
  },
  {
   "cell_type": "code",
   "execution_count": 4,
   "id": "829aad31-25b9-400e-a20b-34f67fa0ebbe",
   "metadata": {},
   "outputs": [
    {
     "name": "stdin",
     "output_type": "stream",
     "text": [
      "Enter a list of elements (space-separated):  2 2 11 2 3 45 6\n"
     ]
    },
    {
     "name": "stdout",
     "output_type": "stream",
     "text": [
      "List with duplicates removed: [2, 3, 6, 11, 45]\n"
     ]
    }
   ],
   "source": [
    "#6.\n",
    "def remove_duplicates(lst):\n",
    "    return list(set(lst))\n",
    "\n",
    "# Test the function\n",
    "input_list = input(\"Enter a list of elements (space-separated): \").split()\n",
    "input_list = [int(num) for num in input_list]  # Convert input strings to integers\n",
    "unique_list = remove_duplicates(input_list)\n",
    "print(\"List with duplicates removed:\", unique_list)\n"
   ]
  },
  {
   "cell_type": "code",
   "execution_count": 6,
   "id": "519ab582-57ea-464c-9564-527e251ade64",
   "metadata": {},
   "outputs": [
    {
     "name": "stdin",
     "output_type": "stream",
     "text": [
      "Enter a number:  45\n"
     ]
    },
    {
     "name": "stdout",
     "output_type": "stream",
     "text": [
      "Factorial of 45 is: 119622220865480194561963161495657715064383733760000000000\n"
     ]
    }
   ],
   "source": [
    "#7.\n",
    "def factorial(n):\n",
    "    if n < 0:\n",
    "        return None  # Factorial is undefined for negative numbers\n",
    "    elif n == 0:\n",
    "        return 1  # Factorial of 0 is 1\n",
    "    else:\n",
    "        result = 1\n",
    "        for i in range(1, n + 1):\n",
    "            result *= i\n",
    "        return result\n",
    "\n",
    "# Test the function\n",
    "number = int(input(\"Enter a number: \"))\n",
    "factorial_value = factorial(number)\n",
    "if factorial_value is None:\n",
    "    print(\"Factorial is undefined for negative numbers.\")\n",
    "else:\n",
    "    print(\"Factorial of\", number, \"is:\", factorial_value)\n"
   ]
  },
  {
   "cell_type": "code",
   "execution_count": 7,
   "id": "82a4bd09-fa26-406e-97e0-3264b3a8351c",
   "metadata": {},
   "outputs": [
    {
     "name": "stdin",
     "output_type": "stream",
     "text": [
      "Enter a number:  122\n"
     ]
    },
    {
     "name": "stdout",
     "output_type": "stream",
     "text": [
      "122 is not a prime number.\n"
     ]
    }
   ],
   "source": [
    "#8.\n",
    "def is_prime(number):\n",
    "    if number <= 1:\n",
    "        return False  # Numbers less than or equal to 1 are not prime\n",
    "\n",
    "    for i in range(2, int(number**0.5) + 1):\n",
    "        if number % i == 0:\n",
    "            return False  # If number is divisible by any number between 2 and sqrt(number), it is not prime\n",
    "\n",
    "    return True\n",
    "\n",
    "# Test the function\n",
    "number = int(input(\"Enter a number: \"))\n",
    "if is_prime(number):\n",
    "    print(number, \"is a prime number.\")\n",
    "else:\n",
    "    print(number, \"is not a prime number.\")\n"
   ]
  },
  {
   "cell_type": "code",
   "execution_count": 8,
   "id": "27e0c981-2276-4a57-987d-a647ed0ca15e",
   "metadata": {},
   "outputs": [
    {
     "name": "stdin",
     "output_type": "stream",
     "text": [
      "Enter a list of integers (space-separated):  1 2 3 4 5 6\n"
     ]
    },
    {
     "name": "stdout",
     "output_type": "stream",
     "text": [
      "Sorted list: [1, 2, 3, 4, 5, 6]\n"
     ]
    }
   ],
   "source": [
    "#9.\n",
    "def sort_list(lst):\n",
    "    return sorted(lst)\n",
    "\n",
    "# Test the function\n",
    "input_list = input(\"Enter a list of integers (space-separated): \").split()\n",
    "input_list = [int(num) for num in input_list]  # Convert input strings to integers\n",
    "sorted_list = sort_list(input_list)\n",
    "print(\"Sorted list:\", sorted_list)\n"
   ]
  },
  {
   "cell_type": "code",
   "execution_count": 9,
   "id": "f9b42fa2-2be6-4a5c-9660-2fa3d0d16db0",
   "metadata": {},
   "outputs": [
    {
     "name": "stdin",
     "output_type": "stream",
     "text": [
      "Enter a list of numbers (space-separated):  2 54 1 2 36 \n"
     ]
    },
    {
     "name": "stdout",
     "output_type": "stream",
     "text": [
      "Sum of the numbers: 95\n"
     ]
    }
   ],
   "source": [
    "#10.\n",
    "def calculate_sum(lst):\n",
    "    total_sum = 0\n",
    "    for num in lst:\n",
    "        total_sum += num\n",
    "    return total_sum\n",
    "\n",
    "# Test the function\n",
    "input_list = input(\"Enter a list of numbers (space-separated): \").split()\n",
    "input_list = [int(num) for num in input_list]  # Convert input strings to integers\n",
    "sum_of_numbers = calculate_sum(input_list)\n",
    "print(\"Sum of the numbers:\", sum_of_numbers)\n"
   ]
  },
  {
   "cell_type": "code",
   "execution_count": 10,
   "id": "6dc39654-7155-4e35-bed8-b0b073145d34",
   "metadata": {},
   "outputs": [
    {
     "name": "stdin",
     "output_type": "stream",
     "text": [
      "Enter elements for the first list (space-separated):  2 1 4 5 3\n",
      "Enter elements for the second list (space-separated):  1 256 9 8 7\n"
     ]
    },
    {
     "name": "stdout",
     "output_type": "stream",
     "text": [
      "Common elements: ['1']\n"
     ]
    }
   ],
   "source": [
    "#11.\n",
    "def find_common_elements(list1, list2):\n",
    "    common_elements = []\n",
    "    for element in list1:\n",
    "        if element in list2:\n",
    "            common_elements.append(element)\n",
    "    return common_elements\n",
    "\n",
    "# Test the function\n",
    "list1 = input(\"Enter elements for the first list (space-separated): \").split()\n",
    "list2 = input(\"Enter elements for the second list (space-separated): \").split()\n",
    "common_elements = find_common_elements(list1, list2)\n",
    "print(\"Common elements:\", common_elements)\n"
   ]
  },
  {
   "cell_type": "code",
   "execution_count": 11,
   "id": "1a10ae2c-00bf-4a3b-af3d-a5ce64fbc8ec",
   "metadata": {},
   "outputs": [
    {
     "name": "stdin",
     "output_type": "stream",
     "text": [
      "Enter the first string:  apple\n",
      "Enter the second string:  batsman\n"
     ]
    },
    {
     "name": "stdout",
     "output_type": "stream",
     "text": [
      "The strings are not anagrams.\n"
     ]
    }
   ],
   "source": [
    "#12.\n",
    "def is_anagram(str1, str2):\n",
    "    str1 = str1.lower()  # Convert both strings to lowercase for case-insensitive comparison\n",
    "    str2 = str2.lower()\n",
    "\n",
    "    # Remove whitespace and punctuation from the strings\n",
    "    str1 = ''.join(char for char in str1 if char.isalnum())\n",
    "    str2 = ''.join(char for char in str2 if char.isalnum())\n",
    "\n",
    "    return sorted(str1) == sorted(str2)\n",
    "\n",
    "# Test the function\n",
    "string1 = input(\"Enter the first string: \")\n",
    "string2 = input(\"Enter the second string: \")\n",
    "if is_anagram(string1, string2):\n",
    "    print(\"The strings are anagrams.\")\n",
    "else:\n",
    "    print(\"The strings are not anagrams.\")\n"
   ]
  },
  {
   "cell_type": "code",
   "execution_count": 13,
   "id": "69fa98a4-3114-419d-839c-c744ef724267",
   "metadata": {},
   "outputs": [
    {
     "name": "stdin",
     "output_type": "stream",
     "text": [
      "Enter a string:  abc\n"
     ]
    },
    {
     "name": "stdout",
     "output_type": "stream",
     "text": [
      "Permutations:\n",
      "abc\n",
      "acb\n",
      "bac\n",
      "bca\n",
      "cab\n",
      "cba\n"
     ]
    }
   ],
   "source": [
    "#13.\n",
    "def generate_permutations(string):\n",
    "    # Base case: If the string has only one character, return it as the single permutation\n",
    "    if len(string) == 1:\n",
    "        return [string]\n",
    "\n",
    "    # Recursive case: Generate permutations by selecting each character as the first character\n",
    "    # and recursively generating permutations for the remaining characters\n",
    "    permutations = []\n",
    "    for i in range(len(string)):\n",
    "        first_char = string[i]\n",
    "        remaining_chars = string[:i] + string[i+1:]\n",
    "        for sub_permutation in generate_permutations(remaining_chars):\n",
    "            permutations.append(first_char + sub_permutation)\n",
    "\n",
    "    return permutations\n",
    "\n",
    "# Test the function\n",
    "input_string = input(\"Enter a string: \")\n",
    "permutations = generate_permutations(input_string)\n",
    "print(\"Permutations:\")\n",
    "for permutation in permutations:\n",
    "    print(permutation)\n"
   ]
  },
  {
   "cell_type": "code",
   "execution_count": 14,
   "id": "1948d646-cb54-46b4-aae3-57aec43ca055",
   "metadata": {},
   "outputs": [
    {
     "name": "stdin",
     "output_type": "stream",
     "text": [
      "Enter the number of Fibonacci terms to calculate:  6\n"
     ]
    },
    {
     "name": "stdout",
     "output_type": "stream",
     "text": [
      "Fibonacci sequence: [0, 1, 1, 2, 3, 5]\n"
     ]
    }
   ],
   "source": [
    "#14.\n",
    "def calculate_fibonacci(n):\n",
    "    fibonacci_sequence = []\n",
    "    if n >= 1:\n",
    "        fibonacci_sequence.append(0)\n",
    "    if n >= 2:\n",
    "        fibonacci_sequence.append(1)\n",
    "\n",
    "    for i in range(2, n):\n",
    "        fibonacci_sequence.append(fibonacci_sequence[i-1] + fibonacci_sequence[i-2])\n",
    "\n",
    "    return fibonacci_sequence\n",
    "\n",
    "# Test the function\n",
    "number_of_terms = int(input(\"Enter the number of Fibonacci terms to calculate: \"))\n",
    "fibonacci_sequence = calculate_fibonacci(number_of_terms)\n",
    "print(\"Fibonacci sequence:\", fibonacci_sequence)\n"
   ]
  },
  {
   "cell_type": "code",
   "execution_count": 15,
   "id": "3787c916-8ce3-458b-895d-69e3a1958467",
   "metadata": {},
   "outputs": [
    {
     "name": "stdin",
     "output_type": "stream",
     "text": [
      "Enter a list of numbers (space-separated):  4 5 63 2 1 \n"
     ]
    },
    {
     "name": "stdout",
     "output_type": "stream",
     "text": [
      "Median: 4.0\n"
     ]
    }
   ],
   "source": [
    "#15.\n",
    "def find_median(numbers):\n",
    "    sorted_numbers = sorted(numbers)\n",
    "    n = len(sorted_numbers)\n",
    "\n",
    "    if n % 2 == 0:\n",
    "        # If the list has an even number of elements, average the middle two numbers\n",
    "        middle_right = n // 2\n",
    "        middle_left = middle_right - 1\n",
    "        median = (sorted_numbers[middle_left] + sorted_numbers[middle_right]) / 2\n",
    "    else:\n",
    "        # If the list has an odd number of elements, take the middle number as the median\n",
    "        middle = n // 2\n",
    "        median = sorted_numbers[middle]\n",
    "\n",
    "    return median\n",
    "\n",
    "# Test the function\n",
    "input_list = input(\"Enter a list of numbers (space-separated): \").split()\n",
    "input_list = [float(num) for num in input_list]  # Convert input strings to floats\n",
    "median_value = find_median(input_list)\n",
    "print(\"Median:\", median_value)\n"
   ]
  },
  {
   "cell_type": "code",
   "execution_count": 16,
   "id": "74b19a0f-e83b-4f35-a968-a4a634744795",
   "metadata": {},
   "outputs": [
    {
     "name": "stdin",
     "output_type": "stream",
     "text": [
      "Enter a list of numbers (space-separated):  4 5 6 9 8 7\n"
     ]
    },
    {
     "name": "stdout",
     "output_type": "stream",
     "text": [
      "The list is not sorted in non-decreasing order.\n"
     ]
    }
   ],
   "source": [
    "#16.\n",
    "def is_sorted(lst):\n",
    "    for i in range(len(lst) - 1):\n",
    "        if lst[i] > lst[i+1]:\n",
    "            return False\n",
    "    return True\n",
    "\n",
    "# Test the function\n",
    "input_list = input(\"Enter a list of numbers (space-separated): \").split()\n",
    "input_list = [int(num) for num in input_list]  # Convert input strings to integers\n",
    "if is_sorted(input_list):\n",
    "    print(\"The list is sorted in non-decreasing order.\")\n",
    "else:\n",
    "    print(\"The list is not sorted in non-decreasing order.\")\n"
   ]
  },
  {
   "cell_type": "code",
   "execution_count": 17,
   "id": "c7cc803a-1eda-456f-8bd8-b1020c7b597f",
   "metadata": {},
   "outputs": [
    {
     "name": "stdin",
     "output_type": "stream",
     "text": [
      "Enter elements for the first list (space-separated):  4 5 1 2 8 \n",
      "Enter elements for the second list (space-separated):   4 5 233 87 8 9\n"
     ]
    },
    {
     "name": "stdout",
     "output_type": "stream",
     "text": [
      "Intersection of the lists: ['4', '5', '8']\n"
     ]
    }
   ],
   "source": [
    "#17.\n",
    "def find_intersection(list1, list2):\n",
    "    set1 = set(list1)\n",
    "    set2 = set(list2)\n",
    "    intersection = set1.intersection(set2)\n",
    "    return list(intersection)\n",
    "\n",
    "# Test the function\n",
    "list1 = input(\"Enter elements for the first list (space-separated): \").split()\n",
    "list2 = input(\"Enter elements for the second list (space-separated): \").split()\n",
    "intersection_list = find_intersection(list1, list2)\n",
    "print(\"Intersection of the lists:\", intersection_list)\n"
   ]
  },
  {
   "cell_type": "code",
   "execution_count": 18,
   "id": "127ccd4d-9f65-4638-b4cd-9ea1caa346b9",
   "metadata": {},
   "outputs": [
    {
     "name": "stdin",
     "output_type": "stream",
     "text": [
      "Enter a list of numbers (space-separated):  4 5 6 98 \n"
     ]
    },
    {
     "name": "stdout",
     "output_type": "stream",
     "text": [
      "Maximum subarray sum: 113\n"
     ]
    }
   ],
   "source": [
    "#18.\n",
    "def find_maximum_subarray_sum(lst):\n",
    "    if len(lst) == 0:\n",
    "        return None  # Return None for an empty list\n",
    "\n",
    "    max_sum = lst[0]\n",
    "    current_sum = lst[0]\n",
    "\n",
    "    for i in range(1, len(lst)):\n",
    "        current_sum = max(lst[i], current_sum + lst[i])\n",
    "        max_sum = max(max_sum, current_sum)\n",
    "\n",
    "    return max_sum\n",
    "\n",
    "# Test the function\n",
    "input_list = input(\"Enter a list of numbers (space-separated): \").split()\n",
    "input_list = [int(num) for num in input_list]  # Convert input strings to integers\n",
    "maximum_subarray_sum = find_maximum_subarray_sum(input_list)\n",
    "print(\"Maximum subarray sum:\", maximum_subarray_sum)\n"
   ]
  },
  {
   "cell_type": "code",
   "execution_count": 19,
   "id": "59a3b930-f1d7-4992-a9ef-728b080509ff",
   "metadata": {},
   "outputs": [
    {
     "name": "stdin",
     "output_type": "stream",
     "text": [
      "Enter a string:  heroin\n"
     ]
    },
    {
     "name": "stdout",
     "output_type": "stream",
     "text": [
      "String without vowels: hrn\n"
     ]
    }
   ],
   "source": [
    "#19.\n",
    "def remove_vowels(input_string):\n",
    "    vowels = \"aeiouAEIOU\"\n",
    "    without_vowels = \"\"\n",
    "\n",
    "    for char in input_string:\n",
    "        if char not in vowels:\n",
    "            without_vowels += char\n",
    "\n",
    "    return without_vowels\n",
    "\n",
    "# Test the function\n",
    "string = input(\"Enter a string: \")\n",
    "string_without_vowels = remove_vowels(string)\n",
    "print(\"String without vowels:\", string_without_vowels)\n"
   ]
  },
  {
   "cell_type": "code",
   "execution_count": 21,
   "id": "38f5a488-d50c-4da1-a696-83b862af9d9d",
   "metadata": {},
   "outputs": [
    {
     "name": "stdin",
     "output_type": "stream",
     "text": [
      "Enter a sentence:  formusa kolkata\n"
     ]
    },
    {
     "name": "stdout",
     "output_type": "stream",
     "text": [
      "Reversed sentence: kolkata formusa\n"
     ]
    }
   ],
   "source": [
    "#20.\n",
    "def reverse_sentence(sentence):\n",
    "    words = sentence.split()\n",
    "    reversed_words = words[::-1]\n",
    "    reversed_sentence = ' '.join(reversed_words)\n",
    "    return reversed_sentence\n",
    "\n",
    "# Test the function\n",
    "input_sentence = input(\"Enter a sentence: \")\n",
    "reversed_sentence = reverse_sentence(input_sentence)\n",
    "print(\"Reversed sentence:\", reversed_sentence)\n"
   ]
  },
  {
   "cell_type": "code",
   "execution_count": 22,
   "id": "c8428900-ff1c-4237-b32b-e0b31d9bf640",
   "metadata": {},
   "outputs": [
    {
     "name": "stdin",
     "output_type": "stream",
     "text": [
      "Enter the first string:  abacus\n",
      "Enter the second string:  cusaba\n"
     ]
    },
    {
     "name": "stdout",
     "output_type": "stream",
     "text": [
      "The strings are anagrams.\n"
     ]
    }
   ],
   "source": [
    "#21.\n",
    "def are_anagrams(str1, str2):\n",
    "    str1 = str1.lower()  # Convert both strings to lowercase for case-insensitive comparison\n",
    "    str2 = str2.lower()\n",
    "\n",
    "    str1 = ''.join(char for char in str1 if char.isalnum())\n",
    "    str2 = ''.join(char for char in str2 if char.isalnum())\n",
    "\n",
    "    return sorted(str1) == sorted(str2)\n",
    "\n",
    "# Test the program\n",
    "string1 = input(\"Enter the first string: \")\n",
    "string2 = input(\"Enter the second string: \")\n",
    "if are_anagrams(string1, string2):\n",
    "    print(\"The strings are anagrams.\")\n",
    "else:\n",
    "    print(\"The strings are not anagrams.\")\n"
   ]
  },
  {
   "cell_type": "code",
   "execution_count": 23,
   "id": "ab364bf9-0465-4c12-829b-801673b56be7",
   "metadata": {},
   "outputs": [
    {
     "name": "stdin",
     "output_type": "stream",
     "text": [
      "Enter a string:  holland\n"
     ]
    },
    {
     "name": "stdout",
     "output_type": "stream",
     "text": [
      "First non-repeating character: h\n"
     ]
    }
   ],
   "source": [
    "#22.\n",
    "def find_first_non_repeating_char(string):\n",
    "    char_counts = {}\n",
    "    for char in string:\n",
    "        char_counts[char] = char_counts.get(char, 0) + 1\n",
    "\n",
    "    for char in string:\n",
    "        if char_counts[char] == 1:\n",
    "            return char\n",
    "\n",
    "    return None  # Return None if no non-repeating character is found\n",
    "\n",
    "# Test the function\n",
    "input_string = input(\"Enter a string: \")\n",
    "first_non_repeating_char = find_first_non_repeating_char(input_string)\n",
    "if first_non_repeating_char is not None:\n",
    "    print(\"First non-repeating character:\", first_non_repeating_char)\n",
    "else:\n",
    "    print(\"No non-repeating character found.\")\n"
   ]
  },
  {
   "cell_type": "code",
   "execution_count": 24,
   "id": "749d6e53-b14c-449e-8334-ac6bbaf0383b",
   "metadata": {},
   "outputs": [
    {
     "name": "stdin",
     "output_type": "stream",
     "text": [
      "Enter a number:  456\n"
     ]
    },
    {
     "name": "stdout",
     "output_type": "stream",
     "text": [
      "Prime factors: [2, 2, 2, 3, 19]\n"
     ]
    }
   ],
   "source": [
    "#23.\n",
    "def find_prime_factors(number):\n",
    "    prime_factors = []\n",
    "    divisor = 2\n",
    "\n",
    "    while divisor * divisor <= number:\n",
    "        if number % divisor == 0:\n",
    "            prime_factors.append(divisor)\n",
    "            number //= divisor\n",
    "        else:\n",
    "            divisor += 1\n",
    "\n",
    "    if number > 1:\n",
    "        prime_factors.append(number)\n",
    "\n",
    "    return prime_factors\n",
    "\n",
    "# Test the program\n",
    "input_number = int(input(\"Enter a number: \"))\n",
    "prime_factors = find_prime_factors(input_number)\n",
    "print(\"Prime factors:\", prime_factors)\n"
   ]
  },
  {
   "cell_type": "code",
   "execution_count": 25,
   "id": "186bd0d8-3405-46fc-8e64-dbc74ede1ac7",
   "metadata": {},
   "outputs": [
    {
     "name": "stdin",
     "output_type": "stream",
     "text": [
      "Enter a number:  32\n"
     ]
    },
    {
     "name": "stdout",
     "output_type": "stream",
     "text": [
      "The number is a power of two.\n"
     ]
    }
   ],
   "source": [
    "#24.\n",
    "def is_power_of_two(number):\n",
    "    if number <= 0:\n",
    "        return False\n",
    "\n",
    "    # Check if the number is a power of two by bitwise AND of the number and its predecessor\n",
    "    return (number & (number - 1)) == 0\n",
    "\n",
    "# Test the function\n",
    "input_number = int(input(\"Enter a number: \"))\n",
    "if is_power_of_two(input_number):\n",
    "    print(\"The number is a power of two.\")\n",
    "else:\n",
    "    print(\"The number is not a power of two.\")\n"
   ]
  },
  {
   "cell_type": "code",
   "execution_count": 26,
   "id": "0145227b-b8b7-472c-b64a-2041a844e84e",
   "metadata": {},
   "outputs": [
    {
     "name": "stdin",
     "output_type": "stream",
     "text": [
      "Enter elements for the first sorted list (space-separated):  2 23 21 24 26\n",
      "Enter elements for the second sorted list (space-separated):  12 23 14 15 \n"
     ]
    },
    {
     "name": "stdout",
     "output_type": "stream",
     "text": [
      "Merged and sorted list: [2, 12, 23, 21, 23, 14, 15, 24, 26]\n"
     ]
    }
   ],
   "source": [
    "#25.\n",
    "def merge_sorted_lists(list1, list2):\n",
    "    merged_list = []\n",
    "    i = j = 0\n",
    "\n",
    "    while i < len(list1) and j < len(list2):\n",
    "        if list1[i] <= list2[j]:\n",
    "            merged_list.append(list1[i])\n",
    "            i += 1\n",
    "        else:\n",
    "            merged_list.append(list2[j])\n",
    "            j += 1\n",
    "\n",
    "    # Append remaining elements from list1, if any\n",
    "    while i < len(list1):\n",
    "        merged_list.append(list1[i])\n",
    "        i += 1\n",
    "\n",
    "    # Append remaining elements from list2, if any\n",
    "    while j < len(list2):\n",
    "        merged_list.append(list2[j])\n",
    "        j += 1\n",
    "\n",
    "    return merged_list\n",
    "\n",
    "# Test the program\n",
    "list1 = input(\"Enter elements for the first sorted list (space-separated): \").split()\n",
    "list2 = input(\"Enter elements for the second sorted list (space-separated): \").split()\n",
    "list1 = [int(num) for num in list1]  # Convert input strings to integers\n",
    "list2 = [int(num) for num in list2]\n",
    "merged_list = merge_sorted_lists(list1, list2)\n",
    "print(\"Merged and sorted list:\", merged_list)\n"
   ]
  },
  {
   "cell_type": "code",
   "execution_count": 28,
   "id": "73b645ce-e0a2-4d5f-a42b-a31190189f67",
   "metadata": {},
   "outputs": [
    {
     "name": "stdin",
     "output_type": "stream",
     "text": [
      "Enter a list of numbers (space-separated):  1 21 2 3 3 3 6 55 5 4 \n"
     ]
    },
    {
     "name": "stdout",
     "output_type": "stream",
     "text": [
      "Mode: [3]\n"
     ]
    }
   ],
   "source": [
    "#26.\n",
    "from collections import Counter\n",
    "\n",
    "def find_mode(numbers):\n",
    "    counts = Counter(numbers)\n",
    "    max_count = max(counts.values())\n",
    "    mode = [num for num, count in counts.items() if count == max_count]\n",
    "    return mode\n",
    "\n",
    "# Test the function\n",
    "input_list = input(\"Enter a list of numbers (space-separated): \").split()\n",
    "input_list = [int(num) for num in input_list]  # Convert input strings to integers\n",
    "mode_values = find_mode(input_list)\n",
    "print(\"Mode:\", mode_values)\n"
   ]
  },
  {
   "cell_type": "code",
   "execution_count": 29,
   "id": "b0896ce7-2274-4491-8e25-5dfac65eff62",
   "metadata": {},
   "outputs": [
    {
     "name": "stdin",
     "output_type": "stream",
     "text": [
      "Enter the first number:  456\n",
      "Enter the second number:  654\n"
     ]
    },
    {
     "name": "stdout",
     "output_type": "stream",
     "text": [
      "Greatest Common Divisor (GCD): 6\n"
     ]
    }
   ],
   "source": [
    "#27.\n",
    "def find_gcd(a, b):\n",
    "    while b != 0:\n",
    "        a, b = b, a % b\n",
    "    return a\n",
    "\n",
    "# Test the program\n",
    "number1 = int(input(\"Enter the first number: \"))\n",
    "number2 = int(input(\"Enter the second number: \"))\n",
    "gcd = find_gcd(number1, number2)\n",
    "print(\"Greatest Common Divisor (GCD):\", gcd)\n"
   ]
  },
  {
   "cell_type": "code",
   "execution_count": 30,
   "id": "3f34530c-bff3-46b5-9e08-fed42fd9001f",
   "metadata": {},
   "outputs": [
    {
     "name": "stdin",
     "output_type": "stream",
     "text": [
      "Enter a number:  562\n"
     ]
    },
    {
     "name": "stdout",
     "output_type": "stream",
     "text": [
      "Square root: 23.706539182259398\n"
     ]
    }
   ],
   "source": [
    "#28.\n",
    "def calculate_square_root(number):\n",
    "    if number < 0:\n",
    "        raise ValueError(\"Square root is not defined for negative numbers.\")\n",
    "    elif number == 0:\n",
    "        return 0\n",
    "\n",
    "    # Initial guess for the square root\n",
    "    guess = number / 2\n",
    "    while True:\n",
    "        new_guess = (guess + number / guess) / 2\n",
    "        if abs(new_guess - guess) < 1e-6:\n",
    "            return new_guess\n",
    "        guess = new_guess\n",
    "\n",
    "# Test the function\n",
    "input_number = float(input(\"Enter a number: \"))\n",
    "square_root = calculate_square_root(input_number)\n",
    "print(\"Square root:\", square_root)\n"
   ]
  },
  {
   "cell_type": "code",
   "execution_count": 31,
   "id": "c70cf531-ee76-4838-a865-a75609d4458b",
   "metadata": {},
   "outputs": [
    {
     "name": "stdin",
     "output_type": "stream",
     "text": [
      "Enter a string:  racecar\n"
     ]
    },
    {
     "name": "stdout",
     "output_type": "stream",
     "text": [
      "The string is a valid palindrome.\n"
     ]
    }
   ],
   "source": [
    "#29\n",
    "def is_valid_palindrome(string):\n",
    "    alphanumeric_string = ''.join(char.lower() for char in string if char.isalnum())\n",
    "    return alphanumeric_string == alphanumeric_string[::-1]\n",
    "\n",
    "# Test the program\n",
    "input_string = input(\"Enter a string: \")\n",
    "if is_valid_palindrome(input_string):\n",
    "    print(\"The string is a valid palindrome.\")\n",
    "else:\n",
    "    print(\"The string is not a valid palindrome.\")\n"
   ]
  },
  {
   "cell_type": "code",
   "execution_count": 32,
   "id": "839e1dd9-c77e-404c-9696-cdd68d8f455e",
   "metadata": {},
   "outputs": [
    {
     "name": "stdin",
     "output_type": "stream",
     "text": [
      "Enter a rotated sorted list (space-separated):  6 9 2 3 4\n"
     ]
    },
    {
     "name": "stdout",
     "output_type": "stream",
     "text": [
      "Minimum element in the rotated sorted list: 2\n"
     ]
    }
   ],
   "source": [
    "#30.\n",
    "def find_minimum_rotated(nums):\n",
    "    left = 0\n",
    "    right = len(nums) - 1\n",
    "\n",
    "    while left < right:\n",
    "        mid = left + (right - left) // 2\n",
    "\n",
    "        if nums[mid] > nums[right]:\n",
    "            left = mid + 1\n",
    "        else:\n",
    "            right = mid\n",
    "\n",
    "    return nums[left]\n",
    "\n",
    "# Test the function\n",
    "input_list = input(\"Enter a rotated sorted list (space-separated): \").split()\n",
    "input_list = [int(num) for num in input_list]  # Convert input strings to integers\n",
    "minimum_element = find_minimum_rotated(input_list)\n",
    "print(\"Minimum element in the rotated sorted list:\", minimum_element)\n"
   ]
  },
  {
   "cell_type": "code",
   "execution_count": 33,
   "id": "4f394019-87f5-43f3-a64c-53d816105712",
   "metadata": {},
   "outputs": [
    {
     "name": "stdin",
     "output_type": "stream",
     "text": [
      "Enter a list of numbers (space-separated):  1 2 45 23 22 26 54 88 \n"
     ]
    },
    {
     "name": "stdout",
     "output_type": "stream",
     "text": [
      "Sum of even numbers: 192\n"
     ]
    }
   ],
   "source": [
    "#3.\n",
    "def sum_of_even_numbers(numbers):\n",
    "    even_sum = 0\n",
    "    for num in numbers:\n",
    "        if num % 2 == 0:\n",
    "            even_sum += num\n",
    "    return even_sum\n",
    "\n",
    "# Test the program\n",
    "input_list = input(\"Enter a list of numbers (space-separated): \").split()\n",
    "input_list = [int(num) for num in input_list]  # Convert input strings to integers\n",
    "even_sum = sum_of_even_numbers(input_list)\n",
    "print(\"Sum of even numbers:\", even_sum)\n"
   ]
  },
  {
   "cell_type": "code",
   "execution_count": 34,
   "id": "f647e7af-a644-46e9-b1fb-3878d7faf136",
   "metadata": {},
   "outputs": [
    {
     "name": "stdin",
     "output_type": "stream",
     "text": [
      "Enter the base:  2\n",
      "Enter the exponent:  8\n"
     ]
    },
    {
     "name": "stdout",
     "output_type": "stream",
     "text": [
      "2.0 raised to the power of 8 is: 256.0\n"
     ]
    }
   ],
   "source": [
    "#32.\n",
    "def power(base, exponent):\n",
    "    if exponent == 0:\n",
    "        return 1\n",
    "    elif exponent < 0:\n",
    "        return 1 / power(base, -exponent)\n",
    "    else:\n",
    "        return base * power(base, exponent - 1)\n",
    "\n",
    "# Test the function\n",
    "base = float(input(\"Enter the base: \"))\n",
    "exponent = int(input(\"Enter the exponent: \"))\n",
    "result = power(base, exponent)\n",
    "print(f\"{base} raised to the power of {exponent} is: {result}\")\n"
   ]
  },
  {
   "cell_type": "code",
   "execution_count": 35,
   "id": "1dada4b5-80e9-4e05-bc9e-f55de488d4df",
   "metadata": {},
   "outputs": [
    {
     "name": "stdin",
     "output_type": "stream",
     "text": [
      "Enter a list of elements (space-separated):  2 1 2 3 6 6 6 5 4 \n"
     ]
    },
    {
     "name": "stdout",
     "output_type": "stream",
     "text": [
      "List with duplicates removed: ['2', '1', '3', '6', '5', '4']\n"
     ]
    }
   ],
   "source": [
    "#33.\n",
    "def remove_duplicates(lst):\n",
    "    unique_list = []\n",
    "    seen_elements = set()\n",
    "\n",
    "    for element in lst:\n",
    "        if element not in seen_elements:\n",
    "            unique_list.append(element)\n",
    "            seen_elements.add(element)\n",
    "\n",
    "    return unique_list\n",
    "\n",
    "# Test the program\n",
    "input_list = input(\"Enter a list of elements (space-separated): \").split()\n",
    "unique_elements = remove_duplicates(input_list)\n",
    "print(\"List with duplicates removed:\", unique_elements)\n"
   ]
  },
  {
   "cell_type": "code",
   "execution_count": 36,
   "id": "db042473-d604-467a-bbbb-8de8acdfeb44",
   "metadata": {},
   "outputs": [
    {
     "name": "stdin",
     "output_type": "stream",
     "text": [
      "Enter a list of strings (space-separated):  aba ksju klsi app car\n"
     ]
    },
    {
     "name": "stdout",
     "output_type": "stream",
     "text": [
      "Longest common prefix: \n"
     ]
    }
   ],
   "source": [
    "#34.\n",
    "def find_longest_common_prefix(strings):\n",
    "    if not strings:\n",
    "        return \"\"\n",
    "\n",
    "    min_length = min(len(string) for string in strings)\n",
    "    prefix = \"\"\n",
    "    \n",
    "    for i in range(min_length):\n",
    "        char = strings[0][i]\n",
    "        \n",
    "        for string in strings[1:]:\n",
    "            if string[i] != char:\n",
    "                return prefix\n",
    "        \n",
    "        prefix += char\n",
    "    \n",
    "    return prefix\n",
    "\n",
    "# Test the function\n",
    "input_strings = input(\"Enter a list of strings (space-separated): \").split()\n",
    "longest_prefix = find_longest_common_prefix(input_strings)\n",
    "print(\"Longest common prefix:\", longest_prefix)\n"
   ]
  },
  {
   "cell_type": "code",
   "execution_count": 37,
   "id": "313bc7c5-df6f-4155-9f78-d15bc328c628",
   "metadata": {},
   "outputs": [
    {
     "name": "stdin",
     "output_type": "stream",
     "text": [
      "Enter a number:  456\n"
     ]
    },
    {
     "name": "stdout",
     "output_type": "stream",
     "text": [
      "The number is not a perfect square.\n"
     ]
    }
   ],
   "source": [
    "#35.\n",
    "def is_perfect_square(number):\n",
    "    if number < 0:\n",
    "        return False\n",
    "    elif number == 0:\n",
    "        return True\n",
    "\n",
    "    left = 1\n",
    "    right = number\n",
    "\n",
    "    while left <= right:\n",
    "        mid = left + (right - left) // 2\n",
    "        square = mid * mid\n",
    "\n",
    "        if square == number:\n",
    "            return True\n",
    "        elif square < number:\n",
    "            left = mid + 1\n",
    "        else:\n",
    "            right = mid - 1\n",
    "\n",
    "    return False\n",
    "\n",
    "# Test the program\n",
    "input_number = int(input(\"Enter a number: \"))\n",
    "if is_perfect_square(input_number):\n",
    "    print(\"The number is a perfect square.\")\n",
    "else:\n",
    "    print(\"The number is not a perfect square.\")\n"
   ]
  },
  {
   "cell_type": "code",
   "execution_count": 38,
   "id": "ec275f02-ad30-46cd-bab5-cee1f45da78a",
   "metadata": {},
   "outputs": [
    {
     "name": "stdin",
     "output_type": "stream",
     "text": [
      "Enter a list of numbers (space-separated):  4 56 21 32\n"
     ]
    },
    {
     "name": "stdout",
     "output_type": "stream",
     "text": [
      "Product of all elements: 150528\n"
     ]
    }
   ],
   "source": [
    "#36.\n",
    "def calculate_product(numbers):\n",
    "    product = 1\n",
    "    for num in numbers:\n",
    "        product *= num\n",
    "    return product\n",
    "\n",
    "# Test the program\n",
    "input_list = input(\"Enter a list of numbers (space-separated): \").split()\n",
    "input_list = [int(num) for num in input_list]  # Convert input strings to integers\n",
    "product = calculate_product(input_list)\n",
    "print(\"Product of all elements:\", product)\n"
   ]
  },
  {
   "cell_type": "code",
   "execution_count": 39,
   "id": "91cbb092-64ed-4d9b-8d87-dc25d5fdfff5",
   "metadata": {},
   "outputs": [
    {
     "name": "stdin",
     "output_type": "stream",
     "text": [
      "Enter a sentence:  kolkata is a metropolitan city\n"
     ]
    },
    {
     "name": "stdout",
     "output_type": "stream",
     "text": [
      "Reversed sentence: city metropolitan a is kolkata\n"
     ]
    }
   ],
   "source": [
    "#37.\n",
    "def reverse_sentence(sentence):\n",
    "    words = sentence.split()\n",
    "    reversed_words = words[::-1]\n",
    "    reversed_sentence = \" \".join(reversed_words)\n",
    "    return reversed_sentence\n",
    "\n",
    "# Test the program\n",
    "input_sentence = input(\"Enter a sentence: \")\n",
    "reversed_sentence = reverse_sentence(input_sentence)\n",
    "print(\"Reversed sentence:\", reversed_sentence)\n"
   ]
  },
  {
   "cell_type": "code",
   "execution_count": 40,
   "id": "3f335c2c-39aa-4bce-9bc6-8a83331fdd7c",
   "metadata": {},
   "outputs": [
    {
     "name": "stdin",
     "output_type": "stream",
     "text": [
      "Enter a list of consecutive numbers (space-separated):  4 5 6 12 23\n"
     ]
    },
    {
     "name": "stdout",
     "output_type": "stream",
     "text": [
      "Missing number: -29\n"
     ]
    }
   ],
   "source": [
    "#38.\n",
    "def find_missing_number(numbers):\n",
    "    n = len(numbers) + 1\n",
    "    expected_sum = (n * (n + 1)) // 2\n",
    "    actual_sum = sum(numbers)\n",
    "    missing_number = expected_sum - actual_sum\n",
    "    return missing_number\n",
    "\n",
    "# Test the function\n",
    "input_list = input(\"Enter a list of consecutive numbers (space-separated): \").split()\n",
    "input_list = [int(num) for num in input_list]  # Convert input strings to integers\n",
    "missing_number = find_missing_number(input_list)\n",
    "print(\"Missing number:\", missing_number)\n"
   ]
  },
  {
   "cell_type": "code",
   "execution_count": 41,
   "id": "e4bfad90-596f-4d47-907e-5b72a21b5117",
   "metadata": {},
   "outputs": [
    {
     "name": "stdin",
     "output_type": "stream",
     "text": [
      "Enter a number:  456\n"
     ]
    },
    {
     "name": "stdout",
     "output_type": "stream",
     "text": [
      "Sum of digits: 15\n"
     ]
    }
   ],
   "source": [
    "#39.\n",
    "def sum_of_digits(number):\n",
    "    total_sum = 0\n",
    "    while number > 0:\n",
    "        digit = number % 10\n",
    "        total_sum += digit\n",
    "        number //= 10\n",
    "    return total_sum\n",
    "\n",
    "# Test the program\n",
    "input_number = int(input(\"Enter a number: \"))\n",
    "digit_sum = sum_of_digits(input_number)\n",
    "print(\"Sum of digits:\", digit_sum)\n"
   ]
  },
  {
   "cell_type": "code",
   "execution_count": 42,
   "id": "f69a489c-487b-4619-8fd8-7749f555bd3a",
   "metadata": {},
   "outputs": [
    {
     "name": "stdin",
     "output_type": "stream",
     "text": [
      "Enter a string:  hollywood\n"
     ]
    },
    {
     "name": "stdout",
     "output_type": "stream",
     "text": [
      "The string is not a valid palindrome.\n"
     ]
    }
   ],
   "source": [
    "#40.\n",
    "def is_valid_palindrome(string):\n",
    "    clean_string = ''.join(char for char in string if char.isalnum())\n",
    "    reversed_string = clean_string[::-1]\n",
    "    return clean_string == reversed_string\n",
    "\n",
    "# Test the program\n",
    "input_string = input(\"Enter a string: \")\n",
    "if is_valid_palindrome(input_string):\n",
    "    print(\"The string is a valid palindrome.\")\n",
    "else:\n",
    "    print(\"The string is not a valid palindrome.\")\n"
   ]
  },
  {
   "cell_type": "code",
   "execution_count": 43,
   "id": "8cd852a0-ee5d-406c-bde1-1d192578cb39",
   "metadata": {},
   "outputs": [
    {
     "name": "stdin",
     "output_type": "stream",
     "text": [
      "Enter a list of numbers (space-separated):  4 5 6 12 3 236 \n"
     ]
    },
    {
     "name": "stdout",
     "output_type": "stream",
     "text": [
      "Smallest missing positive integer: 1\n"
     ]
    }
   ],
   "source": [
    "#41.\n",
    "def find_smallest_missing_positive_integer(nums):\n",
    "    n = len(nums)\n",
    "\n",
    "    # Move each positive number to its correct index if possible\n",
    "    i = 0\n",
    "    while i < n:\n",
    "        # Check if the current number is within the valid range and not already in its correct index\n",
    "        if 1 <= nums[i] <= n and nums[i] != nums[nums[i] - 1]:\n",
    "            # Swap the number to its correct index\n",
    "            nums[nums[i] - 1], nums[i] = nums[i], nums[nums[i] - 1]\n",
    "        else:\n",
    "            i += 1\n",
    "\n",
    "    # Find the first missing positive number\n",
    "    for i in range(n):\n",
    "        if nums[i] != i + 1:\n",
    "            return i + 1\n",
    "\n",
    "    # If all positive numbers are in their correct indices, the missing number is n + 1\n",
    "    return n + 1\n",
    "\n",
    "# Test the program\n",
    "input_list = input(\"Enter a list of numbers (space-separated): \").split()\n",
    "input_list = [int(num) for num in input_list]  # Convert input strings to integers\n",
    "smallest_missing = find_smallest_missing_positive_integer(input_list)\n",
    "print(\"Smallest missing positive integer:\", smallest_missing)\n"
   ]
  },
  {
   "cell_type": "code",
   "execution_count": 44,
   "id": "cf491bd1-56e8-4abf-8d99-6faa5cf4ceda",
   "metadata": {},
   "outputs": [
    {
     "name": "stdin",
     "output_type": "stream",
     "text": [
      "Enter a string:  racecar\n"
     ]
    },
    {
     "name": "stdout",
     "output_type": "stream",
     "text": [
      "Longest palindrome substring: racecar\n"
     ]
    }
   ],
   "source": [
    "#42.\n",
    "def longest_palindrome_substring(string):\n",
    "    longest_palindrome = \"\"\n",
    "    for i in range(len(string)):\n",
    "        # Check for odd length palindromes\n",
    "        odd_palindrome = expand_around_center(string, i, i)\n",
    "        if len(odd_palindrome) > len(longest_palindrome):\n",
    "            longest_palindrome = odd_palindrome\n",
    "\n",
    "        # Check for even length palindromes\n",
    "        even_palindrome = expand_around_center(string, i, i + 1)\n",
    "        if len(even_palindrome) > len(longest_palindrome):\n",
    "            longest_palindrome = even_palindrome\n",
    "\n",
    "    return longest_palindrome\n",
    "\n",
    "def expand_around_center(string, left, right):\n",
    "    while left >= 0 and right < len(string) and string[left] == string[right]:\n",
    "        left -= 1\n",
    "        right += 1\n",
    "    return string[left + 1:right]\n",
    "\n",
    "# Test the function\n",
    "input_string = input(\"Enter a string: \")\n",
    "result = longest_palindrome_substring(input_string)\n",
    "print(\"Longest palindrome substring:\", result)\n"
   ]
  },
  {
   "cell_type": "code",
   "execution_count": 45,
   "id": "edae5bf9-1744-405e-bdc0-10b591c8f4f4",
   "metadata": {},
   "outputs": [
    {
     "name": "stdin",
     "output_type": "stream",
     "text": [
      "Enter a list of elements (space-separated):  4 5 6 55 66 22 33\n",
      "Enter the element to count:  6\n"
     ]
    },
    {
     "name": "stdout",
     "output_type": "stream",
     "text": [
      "Number of occurrences: 1\n"
     ]
    }
   ],
   "source": [
    "#43.\n",
    "def count_occurrences(lst, element):\n",
    "    count = 0\n",
    "    for item in lst:\n",
    "        if item == element:\n",
    "            count += 1\n",
    "    return count\n",
    "\n",
    "# Test the program\n",
    "input_list = input(\"Enter a list of elements (space-separated): \").split()\n",
    "element = input(\"Enter the element to count: \")\n",
    "occurrences = count_occurrences(input_list, element)\n",
    "print(\"Number of occurrences:\", occurrences)\n"
   ]
  },
  {
   "cell_type": "code",
   "execution_count": 46,
   "id": "ecbf1e66-4ddb-41c4-b2e5-69d5ada0eaf7",
   "metadata": {},
   "outputs": [
    {
     "name": "stdin",
     "output_type": "stream",
     "text": [
      "Enter a number:  456\n"
     ]
    },
    {
     "name": "stdout",
     "output_type": "stream",
     "text": [
      "The number is not a perfect number.\n"
     ]
    }
   ],
   "source": [
    "#44.\n",
    "def is_perfect_number(number):\n",
    "    if number <= 0:\n",
    "        return False\n",
    "\n",
    "    divisors = []\n",
    "    for i in range(1, number):\n",
    "        if number % i == 0:\n",
    "            divisors.append(i)\n",
    "\n",
    "    if sum(divisors) == number:\n",
    "        return True\n",
    "    else:\n",
    "        return False\n",
    "\n",
    "# Test the function\n",
    "input_number = int(input(\"Enter a number: \"))\n",
    "if is_perfect_number(input_number):\n",
    "    print(\"The number is a perfect number.\")\n",
    "else:\n",
    "    print(\"The number is not a perfect number.\")\n"
   ]
  },
  {
   "cell_type": "code",
   "execution_count": 47,
   "id": "529bb620-5b9a-4275-a1ed-f520b5c1c58f",
   "metadata": {},
   "outputs": [
    {
     "name": "stdin",
     "output_type": "stream",
     "text": [
      "Enter a list of numbers (space-separated):  4 5 6 9 8 7 77\n"
     ]
    },
    {
     "name": "stdout",
     "output_type": "stream",
     "text": [
      "First missing positive number: 1\n"
     ]
    }
   ],
   "source": [
    "#45.\n",
    "def find_first_missing_positive(nums):\n",
    "    n = len(nums)\n",
    "\n",
    "    # Move each positive number to its correct index if possible\n",
    "    i = 0\n",
    "    while i < n:\n",
    "        # Check if the current number is within the valid range and not already in its correct index\n",
    "        if 1 <= nums[i] <= n and nums[i] != nums[nums[i] - 1]:\n",
    "            # Swap the number to its correct index\n",
    "            nums[nums[i] - 1], nums[i] = nums[i], nums[nums[i] - 1]\n",
    "        else:\n",
    "            i += 1\n",
    "\n",
    "    # Find the first missing positive number\n",
    "    for i in range(n):\n",
    "        if nums[i] != i + 1:\n",
    "            return i + 1\n",
    "\n",
    "    # If all positive numbers are in their correct indices, the missing number is n + 1\n",
    "    return n + 1\n",
    "\n",
    "# Test the program\n",
    "input_list = input(\"Enter a list of numbers (space-separated): \").split()\n",
    "input_list = [int(num) for num in input_list]  # Convert input strings to integers\n",
    "first_missing = find_first_missing_positive(input_list)\n",
    "print(\"First missing positive number:\", first_missing)\n"
   ]
  },
  {
   "cell_type": "code",
   "execution_count": null,
   "id": "2f10ff1d-ab0d-4452-9cd3-f2231ea5b32c",
   "metadata": {},
   "outputs": [],
   "source": []
  }
 ],
 "metadata": {
  "kernelspec": {
   "display_name": "Python 3 (ipykernel)",
   "language": "python",
   "name": "python3"
  },
  "language_info": {
   "codemirror_mode": {
    "name": "ipython",
    "version": 3
   },
   "file_extension": ".py",
   "mimetype": "text/x-python",
   "name": "python",
   "nbconvert_exporter": "python",
   "pygments_lexer": "ipython3",
   "version": "3.10.8"
  }
 },
 "nbformat": 4,
 "nbformat_minor": 5
}
