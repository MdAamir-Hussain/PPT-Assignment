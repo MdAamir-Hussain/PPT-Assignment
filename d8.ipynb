{
 "cells": [
  {
   "cell_type": "code",
   "execution_count": 1,
   "id": "e5d083c3-0202-48f0-92ba-43bfe37da9c5",
   "metadata": {},
   "outputs": [],
   "source": [
    "def minimumDeleteSum(s1,s2):\n",
    "    m,n = len(s1), len(s2)\n",
    "    dp = [[0] * (n+1) for _ in range(m+1)]\n",
    "    \n",
    "    #Fill the base cases\n",
    "    for i in range(1,m+1):\n",
    "        dp[i][0] = dp[i-1][0] + ord(s1[i-1])\n",
    "    for j in range(1,n+1):\n",
    "        dp[0][j] = dp[0][j-1] + ord(s2[j-1])\n",
    "        \n",
    "    #Fill the remaining cells\n",
    "    for i in range(1,m+1):\n",
    "        for j in range(1,n+1):\n",
    "            if s1[i-1] == s2[j-1]:\n",
    "                dp[i][j] = dp[i-1][j-1]\n",
    "            else:\n",
    "                dp[i][j] = min(dp[i-1][j] + ord(s1[i-1]),dp[i][j-1]+ord(s2[j-1]))\n",
    "    return dp[m][n]\n",
    "                "
   ]
  },
  {
   "cell_type": "code",
   "execution_count": 2,
   "id": "d988ba80-4eda-486d-a116-a4181d6468fe",
   "metadata": {},
   "outputs": [
    {
     "name": "stdout",
     "output_type": "stream",
     "text": [
      "231\n"
     ]
    }
   ],
   "source": [
    "s1=\"sea\"\n",
    "s2=\"eat\"\n",
    "result = minimumDeleteSum(s1,s2)\n",
    "print(result) "
   ]
  },
  {
   "cell_type": "code",
   "execution_count": 3,
   "id": "99cb5452-d57f-4450-ada1-5d0350917eba",
   "metadata": {},
   "outputs": [],
   "source": [
    "#2\n",
    "def isValid(s):\n",
    "    stack = []\n",
    "    wildcard_count = 0\n",
    "    \n",
    "    for char in s:\n",
    "        if char == '(' or char == '*':\n",
    "            stack.append(char)\n",
    "        elif char == ')':\n",
    "            if stack and stack[-1] == '(':\n",
    "                stack.pop()\n",
    "            elif wildcard_count > 0:\n",
    "                wildcard_count -= 1\n",
    "            else:\n",
    "                return False\n",
    "        else:\n",
    "            return False\n",
    "    while stack and wildcard_count > 0:\n",
    "        if stack[-1] == '(':\n",
    "            stack.pop()\n",
    "            wildcard_count -=1\n",
    "        else:\n",
    "            stack.pop()\n",
    "    return len(stack) == 0\n"
   ]
  },
  {
   "cell_type": "code",
   "execution_count": 4,
   "id": "981d8b6e-1f95-4e1a-9055-51d3e8312262",
   "metadata": {},
   "outputs": [
    {
     "name": "stdout",
     "output_type": "stream",
     "text": [
      "True\n"
     ]
    }
   ],
   "source": [
    "s = \"()\"\n",
    "result = isValid(s)\n",
    "print(result) "
   ]
  },
  {
   "cell_type": "code",
   "execution_count": 5,
   "id": "8ecb9aa8-52bc-4e9a-9618-c4cfe3789ac0",
   "metadata": {},
   "outputs": [],
   "source": [
    "#3\n",
    "def minSteps(word1, word2):\n",
    "    m,n = len(word1), len(word2)\n",
    "    dp = [[0] * (n+1) for _ in range(m+1)]\n",
    "    \n",
    "    #Fill the base cases\n",
    "    for i in range(1,m+1):\n",
    "        dp[i][0] = i\n",
    "    for j in range(1,n+1):\n",
    "        dp[0][j] = j\n",
    "    \n",
    "    #Fill the remaining cells\n",
    "    for i in range(1,m+1):\n",
    "        for j in range(1,n+1):\n",
    "            if word1[i-1] == word2[j-1]:\n",
    "                dp[i][j] = dp[i-1][j-1]\n",
    "            else:\n",
    "                dp[i][j] = min(dp[i-1][j] + 1,dp[i][j-1] +1)\n",
    "    return dp[m][n]"
   ]
  },
  {
   "cell_type": "code",
   "execution_count": 6,
   "id": "0460e0ad-7547-46c1-a40e-4a7756ec54da",
   "metadata": {},
   "outputs": [
    {
     "name": "stdout",
     "output_type": "stream",
     "text": [
      "2\n"
     ]
    }
   ],
   "source": [
    "word1 = \"sea\"\n",
    "word2 = \"eat\"\n",
    "result = minSteps(word1,word2)\n",
    "print(result)"
   ]
  },
  {
   "cell_type": "code",
   "execution_count": 13,
   "id": "537efcf9-9f77-4ca1-818d-bb39ccf972a5",
   "metadata": {},
   "outputs": [],
   "source": [
    "#4\n",
    "class TreeNode:\n",
    "    def __init__(self, val=0, left=None, right=None):\n",
    "        self.val = val\n",
    "        self.left = left\n",
    "        self.right = right\n",
    "\n",
    "def buildTree(s):\n",
    "    if not s:\n",
    "        return None\n",
    "\n",
    "    # Find the root value\n",
    "    root_val = 0\n",
    "    i = 0\n",
    "    while i < len(s) and s[i] != '(':\n",
    "        root_val = root_val * 10 + int(s[i])\n",
    "        i += 1\n",
    "\n",
    "    root = TreeNode(root_val)\n",
    "\n",
    "    # Find the substring for the left subtree\n",
    "    left_start = i + 1\n",
    "    left_end = findMatchingParenthesis(s, left_start)\n",
    "\n",
    "    # Find the substring for the right subtree\n",
    "    right_start = left_end + 2 if left_end < len(s) - 1 else 0\n",
    "    right_end = findMatchingParenthesis(s, right_start)\n",
    "\n",
    "    # Recursively build the left and right subtrees\n",
    "    root.left = buildTree(s[left_start:left_end])\n",
    "    root.right = buildTree(s[right_start:right_end])\n",
    "\n",
    "    return root\n",
    "\n",
    "def findMatchingParenthesis(s, start):\n",
    "    count = 1\n",
    "    i = start\n",
    "    while i < len(s):\n",
    "        if s[i] == '(':\n",
    "            count += 1\n",
    "        elif s[i] == ')':\n",
    "            count -= 1\n",
    "            if count == 0:\n",
    "                return i\n",
    "        i += 1\n",
    "\n",
    "    return -1\n"
   ]
  },
  {
   "cell_type": "code",
   "execution_count": 14,
   "id": "b2d406dc-5ebb-405a-8df5-f38548925308",
   "metadata": {},
   "outputs": [],
   "source": [
    "s = \"4(2(3)(1))(6(5))\"\n",
    "result = buildTree(s)\n"
   ]
  },
  {
   "cell_type": "code",
   "execution_count": 15,
   "id": "1acc1269-63a4-46e8-9e02-f7051077ac03",
   "metadata": {},
   "outputs": [],
   "source": [
    "def inorderTraversal(root):\n",
    "    if not root:\n",
    "        return []\n",
    "\n",
    "    result = []\n",
    "    stack = []\n",
    "\n",
    "    while root or stack:\n",
    "        while root:\n",
    "            stack.append(root)\n",
    "            root = root.left\n",
    "\n",
    "        node = stack.pop()\n",
    "        result.append(node.val)\n",
    "        root = node.right\n",
    "\n",
    "    return result\n"
   ]
  },
  {
   "cell_type": "code",
   "execution_count": 17,
   "id": "9ab3294e-699a-49f1-8c40-5b47ad04f854",
   "metadata": {},
   "outputs": [
    {
     "name": "stdout",
     "output_type": "stream",
     "text": [
      "[3, 2, 1, 4, 5, 6, 6, 0]\n"
     ]
    }
   ],
   "source": [
    "inorder = inorderTraversal(result)\n",
    "print(inorder)  # Output: [4, 2, 6, 3, 1, 5]\n"
   ]
  },
  {
   "cell_type": "code",
   "execution_count": 19,
   "id": "fcbbfa8b-02b9-48ff-81eb-8527de586093",
   "metadata": {},
   "outputs": [],
   "source": [
    "#5\n",
    "def compress(chars):\n",
    "    write =0\n",
    "    count =1\n",
    "    for i in range(1,len(chars)):\n",
    "        if chars[i] == chars[i-1]:\n",
    "            count += 1\n",
    "        else:\n",
    "            chars[write] = chars[i-1]\n",
    "            write += 1\n",
    "            \n",
    "            if count > 1:\n",
    "                count_str = str(count)\n",
    "                for j in range(len(count_str)):\n",
    "                    chars[write] = count_str[j]\n",
    "                    write += 1\n",
    "            count = 1\n",
    "    chars[write] = chars[-1]\n",
    "    write += 1\n",
    "    \n",
    "    if count > 1:\n",
    "        count_str = str(count)\n",
    "        for j in range(len(count_str)):\n",
    "            chars[write] = count_str[j]\n",
    "            write +=1\n",
    "            \n",
    "    return write\n"
   ]
  },
  {
   "cell_type": "code",
   "execution_count": 20,
   "id": "6e3eb424-fc3d-4219-a355-9b5158dd9af2",
   "metadata": {},
   "outputs": [
    {
     "name": "stdout",
     "output_type": "stream",
     "text": [
      "6\n",
      "['a', '2', 'b', '2', 'c', '4']\n"
     ]
    }
   ],
   "source": [
    "chars = [\"a\" , \"a\", \"b\", \"b\", \"c\", \"c\", \"c\", \"c\"]\n",
    "result = compress(chars)\n",
    "print(result)\n",
    "print(chars[:result])"
   ]
  },
  {
   "cell_type": "code",
   "execution_count": 21,
   "id": "8e270077-c8b7-4145-a530-455a7039f161",
   "metadata": {},
   "outputs": [],
   "source": [
    "#6\n",
    "from collections import Counter\n",
    "def findAnagrams(s,p):\n",
    "    p_freq = Counter(p)\n",
    "    window_freq = Counter()\n",
    "    left =0\n",
    "    result = []\n",
    "    \n",
    "    for right in range(len(s)):\n",
    "        window_freq[s[right]] += 1\n",
    "        \n",
    "        if right - left + 1 > len(p):\n",
    "            if window_freq[s[left]] == 1:\n",
    "                del window_freq[s[left]]\n",
    "            else:\n",
    "                window_freq[s[left]] -= 1\n",
    "            left += 1\n",
    "        if window_freq == p_freq:\n",
    "            result.append(left)\n",
    "            \n",
    "    return result\n",
    "        "
   ]
  },
  {
   "cell_type": "code",
   "execution_count": 22,
   "id": "9864cddf-fc69-4bb4-beda-d78ce3fceff5",
   "metadata": {},
   "outputs": [
    {
     "name": "stdout",
     "output_type": "stream",
     "text": [
      "[0, 6]\n"
     ]
    }
   ],
   "source": [
    "s = \"cbaebabacd\"\n",
    "p = \"abc\"\n",
    "result = findAnagrams(s,p)\n",
    "print(result)"
   ]
  },
  {
   "cell_type": "code",
   "execution_count": 29,
   "id": "7453c7ee-c332-4348-a0ad-82f38e9cf71d",
   "metadata": {},
   "outputs": [],
   "source": [
    "#7\n",
    "def decodeString(s):\n",
    "    stack = []\n",
    "    curr_string = \"\"\n",
    "    curr_num = 0\n",
    "\n",
    "    for char in s:\n",
    "        if char.isdigit():\n",
    "            curr_num = curr_num * 10 + int(char)\n",
    "        elif char == \"[\":\n",
    "            stack.append(curr_string)\n",
    "            stack.append(curr_num)\n",
    "            curr_string = \"\"\n",
    "            curr_num = 0\n",
    "        elif char == \"]\":\n",
    "            num = stack.pop()\n",
    "            prev_string = stack.pop()\n",
    "            curr_string = prev_string + num * curr_string\n",
    "        else:\n",
    "            curr_string += char\n",
    "\n",
    "    return curr_string\n"
   ]
  },
  {
   "cell_type": "code",
   "execution_count": 30,
   "id": "d686f651-86af-4f7f-a92c-b2049e8d7eba",
   "metadata": {},
   "outputs": [
    {
     "name": "stdout",
     "output_type": "stream",
     "text": [
      "aaabcbc\n"
     ]
    }
   ],
   "source": [
    "s = \"3[a]2[bc]\"\n",
    "result = decodeString(s)\n",
    "print(result)  # Output: \"aaabcbc\"\n"
   ]
  },
  {
   "cell_type": "code",
   "execution_count": 33,
   "id": "a52415a1-ad59-4057-8fe5-45f74e645c70",
   "metadata": {},
   "outputs": [],
   "source": [
    "#8\n",
    "def buddyStrings(s, goal):\n",
    "    if len(s) != len(goal):\n",
    "        return False\n",
    "\n",
    "    if s == goal:\n",
    "        # Check if s contains any repeated character\n",
    "        return len(set(s)) < len(s)\n",
    "\n",
    "    differences = []\n",
    "    for i in range(len(s)):\n",
    "        if s[i] != goal[i]:\n",
    "            differences.append(i)\n",
    "\n",
    "    return len(differences) == 2 and s[differences[0]] == goal[differences[1]] and s[differences[1]] == goal[differences[0]]\n",
    "\n"
   ]
  },
  {
   "cell_type": "code",
   "execution_count": 34,
   "id": "2fd68a9e-d9db-4df2-bbb2-961e32950607",
   "metadata": {},
   "outputs": [
    {
     "name": "stdout",
     "output_type": "stream",
     "text": [
      "True\n"
     ]
    }
   ],
   "source": [
    "s = \"ab\"\n",
    "goal = \"ba\"\n",
    "result = buddyStrings(s, goal)\n",
    "print(result)  # Output: True\n"
   ]
  },
  {
   "cell_type": "code",
   "execution_count": null,
   "id": "d09b6e6d-cbfc-4c2f-aa84-d34fd907d455",
   "metadata": {},
   "outputs": [],
   "source": []
  }
 ],
 "metadata": {
  "kernelspec": {
   "display_name": "Python 3 (ipykernel)",
   "language": "python",
   "name": "python3"
  },
  "language_info": {
   "codemirror_mode": {
    "name": "ipython",
    "version": 3
   },
   "file_extension": ".py",
   "mimetype": "text/x-python",
   "name": "python",
   "nbconvert_exporter": "python",
   "pygments_lexer": "ipython3",
   "version": "3.10.8"
  }
 },
 "nbformat": 4,
 "nbformat_minor": 5
}
