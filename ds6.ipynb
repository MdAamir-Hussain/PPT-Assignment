{
 "cells": [
  {
   "cell_type": "code",
   "execution_count": 1,
   "id": "c89d6477-6ff7-412a-ab39-0c5991900d67",
   "metadata": {},
   "outputs": [
    {
     "name": "stdout",
     "output_type": "stream",
     "text": [
      "[0, 4, 1, 3, 2]\n"
     ]
    }
   ],
   "source": [
    "#1\n",
    "def reconstruct_permutation(s):\n",
    "    perm = []\n",
    "    start, end = 0, len(s)\n",
    "\n",
    "    for c in s:\n",
    "        if c == 'I':\n",
    "            perm.append(start)\n",
    "            start += 1\n",
    "        elif c == 'D':\n",
    "            perm.append(end)\n",
    "            end -= 1\n",
    "\n",
    "    perm.append(start)\n",
    "    return perm\n",
    "\n",
    "# Test case\n",
    "s = \"IDID\"\n",
    "output = reconstruct_permutation(s)\n",
    "print(output)  # Output: [0, 4, 1, 3, 2] (or any other valid permutation)\n"
   ]
  },
  {
   "cell_type": "code",
   "execution_count": 2,
   "id": "3de1e505-40d5-406c-b4e2-abfd28d83986",
   "metadata": {},
   "outputs": [
    {
     "name": "stdout",
     "output_type": "stream",
     "text": [
      "True\n"
     ]
    }
   ],
   "source": [
    "#2\n",
    "def search_matrix(matrix, target):\n",
    "    m, n = len(matrix), len(matrix[0])\n",
    "    left, right = 0, m * n - 1\n",
    "\n",
    "    while left <= right:\n",
    "        mid = left + (right - left) // 2\n",
    "        mid_val = matrix[mid // n][mid % n]\n",
    "\n",
    "        if mid_val == target:\n",
    "            return True\n",
    "        elif mid_val < target:\n",
    "            left = mid + 1\n",
    "        else:\n",
    "            right = mid - 1\n",
    "\n",
    "    return False\n",
    "\n",
    "# Test case\n",
    "matrix = [[1, 3, 5, 7], [10, 11, 16, 20], [23, 30, 34, 60]]\n",
    "target = 3\n",
    "output = search_matrix(matrix, target)\n",
    "print(output)  # Output: True\n"
   ]
  },
  {
   "cell_type": "code",
   "execution_count": 3,
   "id": "b7e7a6cd-2441-4e30-a8a1-37cd922704f9",
   "metadata": {},
   "outputs": [
    {
     "name": "stdout",
     "output_type": "stream",
     "text": [
      "False\n"
     ]
    }
   ],
   "source": [
    "#3\n",
    "def valid_mountain_array(arr):\n",
    "    n = len(arr)\n",
    "    if n < 3:\n",
    "        return False\n",
    "\n",
    "    peak_index = 0\n",
    "    while peak_index < n - 1 and arr[peak_index] < arr[peak_index + 1]:\n",
    "        peak_index += 1\n",
    "\n",
    "    if peak_index == 0 or peak_index == n - 1:\n",
    "        return False\n",
    "\n",
    "    while peak_index < n - 1 and arr[peak_index] > arr[peak_index + 1]:\n",
    "        peak_index += 1\n",
    "\n",
    "    return peak_index == n - 1\n",
    "\n",
    "# Test case\n",
    "arr = [2, 1]\n",
    "output = valid_mountain_array(arr)\n",
    "print(output)  # Output: False\n"
   ]
  },
  {
   "cell_type": "code",
   "execution_count": 4,
   "id": "d34b8cfc-156d-41e6-8e51-6f815afa0531",
   "metadata": {},
   "outputs": [
    {
     "name": "stdout",
     "output_type": "stream",
     "text": [
      "2\n"
     ]
    }
   ],
   "source": [
    "#4\n",
    "def find_max_length(nums):\n",
    "    max_length = 0\n",
    "    count_diff = {0: -1}  # Initialize with a difference of 0 at index -1\n",
    "\n",
    "    diff = 0\n",
    "    for i, num in enumerate(nums):\n",
    "        if num == 0:\n",
    "            diff -= 1\n",
    "        else:\n",
    "            diff += 1\n",
    "\n",
    "        if diff in count_diff:\n",
    "            max_length = max(max_length, i - count_diff[diff])\n",
    "        else:\n",
    "            count_diff[diff] = i\n",
    "\n",
    "    return max_length\n",
    "\n",
    "# Test case\n",
    "nums = [0, 1]\n",
    "output = find_max_length(nums)\n",
    "print(output)  # Output: 2\n"
   ]
  },
  {
   "cell_type": "code",
   "execution_count": 5,
   "id": "4460fff3-98e9-4e6c-ae0e-f31f77930a52",
   "metadata": {},
   "outputs": [
    {
     "name": "stdout",
     "output_type": "stream",
     "text": [
      "40\n"
     ]
    }
   ],
   "source": [
    "#5\n",
    "def min_product_sum(nums1, nums2):\n",
    "    nums1.sort()\n",
    "    nums2.sort(reverse=True)\n",
    "\n",
    "    product_sum = sum(num1 * num2 for num1, num2 in zip(nums1, nums2))\n",
    "    return product_sum\n",
    "\n",
    "# Test case\n",
    "nums1 = [5, 3, 4, 2]\n",
    "nums2 = [4, 2, 2, 5]\n",
    "output = min_product_sum(nums1, nums2)\n",
    "print(output)  # Output: 40\n",
    "\n"
   ]
  },
  {
   "cell_type": "code",
   "execution_count": 6,
   "id": "351c2bf2-4913-4452-817b-6eaa76a09404",
   "metadata": {},
   "outputs": [
    {
     "name": "stdout",
     "output_type": "stream",
     "text": [
      "[]\n"
     ]
    }
   ],
   "source": [
    "#6\n",
    "def find_original_array(changed):\n",
    "    original = []\n",
    "    count_map = {}\n",
    "\n",
    "    for num in changed:\n",
    "        count_map[num] = count_map.get(num, 0) + 1\n",
    "\n",
    "    for num in sorted(changed):\n",
    "        if count_map[num] > 0:\n",
    "            halved_num = num // 2\n",
    "            if count_map.get(halved_num, 0) <= 0:\n",
    "                return []\n",
    "            original.append(halved_num)\n",
    "            count_map[halved_num] -= 1\n",
    "\n",
    "    return original\n",
    "\n",
    "# Test case\n",
    "changed = [1, 3, 4, 2, 6, 8]\n",
    "output = find_original_array(changed)\n",
    "print(output)  # Output: [1, 3, 4] (or any other valid original array)\n"
   ]
  },
  {
   "cell_type": "code",
   "execution_count": 7,
   "id": "2c9ed56f-4e3b-49d0-9f33-c6b2dff88a26",
   "metadata": {},
   "outputs": [
    {
     "name": "stdout",
     "output_type": "stream",
     "text": [
      "[[1, 2, 3], [8, 9, 4], [7, 6, 5]]\n"
     ]
    }
   ],
   "source": [
    "#7\n",
    "def generate_spiral_matrix(n):\n",
    "    matrix = [[0] * n for _ in range(n)]\n",
    "    num = 1\n",
    "\n",
    "    top, bottom, left, right = 0, n - 1, 0, n - 1\n",
    "\n",
    "    while num <= n * n:\n",
    "        # Traverse the top row\n",
    "        for i in range(left, right + 1):\n",
    "            matrix[top][i] = num\n",
    "            num += 1\n",
    "        top += 1\n",
    "\n",
    "        # Traverse the rightmost column\n",
    "        for i in range(top, bottom + 1):\n",
    "            matrix[i][right] = num\n",
    "            num += 1\n",
    "        right -= 1\n",
    "\n",
    "        # Traverse the bottom row\n",
    "        for i in range(right, left - 1, -1):\n",
    "            matrix[bottom][i] = num\n",
    "            num += 1\n",
    "        bottom -= 1\n",
    "\n",
    "        # Traverse the leftmost column\n",
    "        for i in range(bottom, top - 1, -1):\n",
    "            matrix[i][left] = num\n",
    "            num += 1\n",
    "        left += 1\n",
    "\n",
    "    return matrix\n",
    "\n",
    "# Test case\n",
    "n = 3\n",
    "output = generate_spiral_matrix(n)\n",
    "print(output)\n"
   ]
  },
  {
   "cell_type": "code",
   "execution_count": 8,
   "id": "a1b4e03c-903a-438d-a5ae-ee080aa181ca",
   "metadata": {},
   "outputs": [
    {
     "name": "stdout",
     "output_type": "stream",
     "text": [
      "[[7, 0, 0], [-7, 0, 3]]\n"
     ]
    }
   ],
   "source": [
    "#8\n",
    "def multiply_sparse_matrices(mat1, mat2):\n",
    "    m, k = len(mat1), len(mat1[0])\n",
    "    k2, n = len(mat2), len(mat2[0])\n",
    "\n",
    "    result = [[0] * n for _ in range(m)]\n",
    "\n",
    "    for i in range(m):\n",
    "        for j in range(n):\n",
    "            for x in range(k):\n",
    "                result[i][j] += mat1[i][x] * mat2[x][j]\n",
    "\n",
    "    return result\n",
    "\n",
    "# Test case\n",
    "mat1 = [[1, 0, 0], [-1, 0, 3]]\n",
    "mat2 = [[7, 0, 0], [0, 0, 0], [0, 0, 1]]\n",
    "output = multiply_sparse_matrices(mat1, mat2)\n",
    "print(output)  # Output: [[7, 0, 0], [-7, 0, 3]]\n"
   ]
  },
  {
   "cell_type": "code",
   "execution_count": null,
   "id": "bc7f40f5-5263-4ab7-8a7a-0e565e968e84",
   "metadata": {},
   "outputs": [],
   "source": []
  }
 ],
 "metadata": {
  "kernelspec": {
   "display_name": "Python 3 (ipykernel)",
   "language": "python",
   "name": "python3"
  },
  "language_info": {
   "codemirror_mode": {
    "name": "ipython",
    "version": 3
   },
   "file_extension": ".py",
   "mimetype": "text/x-python",
   "name": "python",
   "nbconvert_exporter": "python",
   "pygments_lexer": "ipython3",
   "version": "3.10.8"
  }
 },
 "nbformat": 4,
 "nbformat_minor": 5
}
