{
 "cells": [
  {
   "cell_type": "code",
   "execution_count": 1,
   "id": "42f3fc58-e908-4c76-9008-320dac382a39",
   "metadata": {},
   "outputs": [
    {
     "name": "stdout",
     "output_type": "stream",
     "text": [
      "[1, 2]\n"
     ]
    }
   ],
   "source": [
    "#1\n",
    "def two_sum(numbers,target):\n",
    "    left,right = 0, len(numbers)-1\n",
    "    \n",
    "    while left < right:\n",
    "        total = numbers[left] + numbers[right]\n",
    "        \n",
    "        if total == target:\n",
    "            return [left + 1, right + 1] #Add 1 to get 1-indexed array\n",
    "        elif total<target:\n",
    "            left +=1\n",
    "        else:\n",
    "            right -=1\n",
    "            \n",
    "    return None #No solution found\n",
    "\n",
    "#Test case\n",
    "numbers = [2,7,11,15]\n",
    "target = 9\n",
    "output = two_sum(numbers,target)\n",
    "print(output) #Output: [1,2]"
   ]
  },
  {
   "cell_type": "code",
   "execution_count": 2,
   "id": "06f3bb9f-de49-42bf-875a-6c34f8297fda",
   "metadata": {},
   "outputs": [
    {
     "name": "stdout",
     "output_type": "stream",
     "text": [
      "[3, 4]\n"
     ]
    }
   ],
   "source": [
    "#2\n",
    "def search_range(nums, target):\n",
    "    def find_start(nums, target):\n",
    "        start, end = 0, len(nums) - 1\n",
    "        result = -1\n",
    "\n",
    "        while start <= end:\n",
    "            mid = (start + end) // 2\n",
    "\n",
    "            if nums[mid] >= target:\n",
    "                end = mid - 1\n",
    "                result = mid\n",
    "            else:\n",
    "                start = mid + 1\n",
    "\n",
    "        return result\n",
    "\n",
    "    def find_end(nums, target):\n",
    "        start, end = 0, len(nums) - 1\n",
    "        result = -1\n",
    "\n",
    "        while start <= end:\n",
    "            mid = (start + end) // 2\n",
    "\n",
    "            if nums[mid] <= target:\n",
    "                start = mid + 1\n",
    "                result = mid\n",
    "            else:\n",
    "                end = mid - 1\n",
    "\n",
    "        return result\n",
    "\n",
    "    start = find_start(nums, target)\n",
    "    end = find_end(nums, target)\n",
    "\n",
    "    if start <= end:\n",
    "        return [start, end]\n",
    "    else:\n",
    "        return [-1, -1]\n",
    "\n",
    "# Test case\n",
    "nums = [5, 7, 7, 8, 8, 10]\n",
    "target = 8\n",
    "output = search_range(nums, target)\n",
    "print(output)  # Output: [3, 4]\n"
   ]
  },
  {
   "cell_type": "code",
   "execution_count": 4,
   "id": "1b2dec2c-6280-4188-83d7-ef408215866f",
   "metadata": {},
   "outputs": [
    {
     "name": "stdout",
     "output_type": "stream",
     "text": [
      "2\n"
     ]
    }
   ],
   "source": [
    "#3\n",
    "def find_peak_element(nums):\n",
    "    left, right = 0, len(nums) - 1\n",
    "\n",
    "    while left < right:\n",
    "        mid = (left + right) // 2\n",
    "\n",
    "        if nums[mid] > nums[mid + 1]:  # Check if mid is greater than its right neighbor\n",
    "            right = mid\n",
    "        else:\n",
    "            left = mid + 1\n",
    "\n",
    "    return left\n",
    "\n",
    "# Test case\n",
    "nums = [1, 2, 3, 1]\n",
    "output = find_peak_element(nums)\n",
    "print(output)  # Output: 2\n",
    "\n",
    "            "
   ]
  },
  {
   "cell_type": "code",
   "execution_count": 5,
   "id": "c1b8254b-e870-4e4e-8977-6066b6e45cdc",
   "metadata": {},
   "outputs": [
    {
     "name": "stdout",
     "output_type": "stream",
     "text": [
      "2\n",
      "4\n"
     ]
    }
   ],
   "source": [
    "#4\n",
    "def search_insert(nums, target):\n",
    "    left, right = 0, len(nums)\n",
    "\n",
    "    while left < right:\n",
    "        mid = (left + right) // 2\n",
    "\n",
    "        if nums[mid] == target:\n",
    "            return mid\n",
    "        elif nums[mid] < target:\n",
    "            left = mid + 1\n",
    "        else:\n",
    "            right = mid\n",
    "\n",
    "    return left\n",
    "\n",
    "# Test cases\n",
    "nums1 = [1, 3, 5, 6]\n",
    "target1 = 5\n",
    "output1 = search_insert(nums1, target1)\n",
    "print(output1)  # Output: 2\n",
    "\n",
    "nums2 = [1, 3, 5, 6]\n",
    "target2 = 7\n",
    "output2 = search_insert(nums2, target2)\n",
    "print(output2)  # Output: 4\n"
   ]
  },
  {
   "cell_type": "code",
   "execution_count": 6,
   "id": "f2d50441-4984-4d5a-bf0b-1127b218ca5b",
   "metadata": {},
   "outputs": [
    {
     "name": "stdout",
     "output_type": "stream",
     "text": [
      "4\n"
     ]
    }
   ],
   "source": [
    "#5\n",
    "def find_majority_element(nums):\n",
    "    candidate = None\n",
    "    count = 0\n",
    "\n",
    "    for num in nums:\n",
    "        if count == 0:\n",
    "            candidate = num\n",
    "            count = 1\n",
    "        elif candidate == num:\n",
    "            count += 1\n",
    "        else:\n",
    "            count -= 1\n",
    "\n",
    "    return candidate\n",
    "\n",
    "# Test case\n",
    "nums = [3, 3, 4, 2, 4, 4, 2, 4, 4]\n",
    "output = find_majority_element(nums)\n",
    "print(output)  # Output: 4\n"
   ]
  },
  {
   "cell_type": "code",
   "execution_count": 7,
   "id": "f3010a85-f551-4c11-b5d5-1fb112a05854",
   "metadata": {},
   "outputs": [
    {
     "name": "stdout",
     "output_type": "stream",
     "text": [
      "4\n"
     ]
    }
   ],
   "source": [
    "#6\n",
    "def first_bad_version(n):\n",
    "    left, right = 1, n\n",
    "\n",
    "    while left < right:\n",
    "        mid = left + (right - left) // 2\n",
    "\n",
    "        if isBadVersion(mid):\n",
    "            right = mid\n",
    "        else:\n",
    "            left = mid + 1\n",
    "\n",
    "    return left\n",
    "\n",
    "# Mock isBadVersion function for testing\n",
    "def isBadVersion(version):\n",
    "    bad_version = 4  # Replace this with the actual API call\n",
    "    return version >= bad_version\n",
    "\n",
    "# Test case\n",
    "n = 5\n",
    "output = first_bad_version(n)\n",
    "print(output)  # Output: 4\n"
   ]
  },
  {
   "cell_type": "code",
   "execution_count": 8,
   "id": "6995cf4a-b1eb-483a-b00c-31dad6a89473",
   "metadata": {},
   "outputs": [
    {
     "name": "stdout",
     "output_type": "stream",
     "text": [
      "3\n"
     ]
    }
   ],
   "source": [
    "#7\n",
    "def count_inversions(arr):\n",
    "    def merge_and_count(left, right):\n",
    "        merged = []\n",
    "        count = 0\n",
    "        i, j = 0, 0\n",
    "\n",
    "        while i < len(left) and j < len(right):\n",
    "            if left[i] <= right[j]:\n",
    "                merged.append(left[i])\n",
    "                i += 1\n",
    "            else:\n",
    "                merged.append(right[j])\n",
    "                count += len(left) - i  # Count the inversions\n",
    "                j += 1\n",
    "\n",
    "        merged.extend(left[i:])\n",
    "        merged.extend(right[j:])\n",
    "\n",
    "        return merged, count\n",
    "\n",
    "    def merge_sort_and_count(arr):\n",
    "        if len(arr) <= 1:\n",
    "            return arr, 0\n",
    "\n",
    "        mid = len(arr) // 2\n",
    "        left, count_left = merge_sort_and_count(arr[:mid])\n",
    "        right, count_right = merge_sort_and_count(arr[mid:])\n",
    "\n",
    "        merged, count_merge = merge_and_count(left, right)\n",
    "\n",
    "        return merged, count_left + count_right + count_merge\n",
    "\n",
    "    _, count = merge_sort_and_count(arr)\n",
    "    return count\n",
    "\n",
    "# Test case\n",
    "arr = [2, 4, 1, 3, 5]\n",
    "output = count_inversions(arr)\n",
    "print(output)  # Output: 3\n"
   ]
  },
  {
   "cell_type": "code",
   "execution_count": 9,
   "id": "6d49abdb-69a5-4689-84cd-af1b26df3336",
   "metadata": {},
   "outputs": [
    {
     "name": "stdout",
     "output_type": "stream",
     "text": [
      "[20, 80]\n"
     ]
    }
   ],
   "source": [
    "#8\n",
    "def find_common_elements(ar1, ar2, ar3):\n",
    "    common_elements = []\n",
    "    i, j, k = 0, 0, 0\n",
    "\n",
    "    while i < len(ar1) and j < len(ar2) and k < len(ar3):\n",
    "        if ar1[i] == ar2[j] == ar3[k]:\n",
    "            common_elements.append(ar1[i])\n",
    "            i += 1\n",
    "            j += 1\n",
    "            k += 1\n",
    "        elif ar1[i] <= ar2[j] and ar1[i] <= ar3[k]:\n",
    "            i += 1\n",
    "        elif ar2[j] <= ar1[i] and ar2[j] <= ar3[k]:\n",
    "            j += 1\n",
    "        else:\n",
    "            k += 1\n",
    "\n",
    "    return common_elements\n",
    "\n",
    "# Test case\n",
    "ar1 = [1, 5, 10, 20, 40, 80]\n",
    "ar2 = [6, 7, 20, 80, 100]\n",
    "ar3 = [3, 4, 15, 20, 30, 70, 80, 120]\n",
    "\n",
    "output = find_common_elements(ar1, ar2, ar3)\n",
    "print(output)  # Output: [20, 80]\n"
   ]
  },
  {
   "cell_type": "code",
   "execution_count": null,
   "id": "f13594a0-58b1-4927-bd06-7f187cfe2a53",
   "metadata": {},
   "outputs": [],
   "source": []
  }
 ],
 "metadata": {
  "kernelspec": {
   "display_name": "Python 3 (ipykernel)",
   "language": "python",
   "name": "python3"
  },
  "language_info": {
   "codemirror_mode": {
    "name": "ipython",
    "version": 3
   },
   "file_extension": ".py",
   "mimetype": "text/x-python",
   "name": "python",
   "nbconvert_exporter": "python",
   "pygments_lexer": "ipython3",
   "version": "3.10.8"
  }
 },
 "nbformat": 4,
 "nbformat_minor": 5
}
