{
 "cells": [
  {
   "cell_type": "code",
   "execution_count": 1,
   "id": "0f53f938-bf7c-4717-b3d8-a1230a74804e",
   "metadata": {},
   "outputs": [],
   "source": [
    "#1.\n",
    "def intersect(arr1, arr2, arr3):\n",
    "    result = []\n",
    "    i, j, k = 0, 0, 0\n",
    "\n",
    "    while i < len(arr1) and j < len(arr2) and k < len(arr3):\n",
    "        if arr1[i] == arr2[j] == arr3[k]:\n",
    "            result.append(arr1[i])\n",
    "            i += 1\n",
    "            j += 1\n",
    "            k += 1\n",
    "        elif arr1[i] < arr2[j]:\n",
    "            i += 1\n",
    "        elif arr2[j] < arr3[k]:\n",
    "            j += 1\n",
    "        else:\n",
    "            k += 1\n",
    "\n",
    "    return result\n"
   ]
  },
  {
   "cell_type": "code",
   "execution_count": 2,
   "id": "2d66f529-8a2b-421f-b194-fe82933d04e9",
   "metadata": {},
   "outputs": [
    {
     "name": "stdout",
     "output_type": "stream",
     "text": [
      "[1, 5]\n"
     ]
    }
   ],
   "source": [
    "arr1 = [1, 2, 3, 4, 5]\n",
    "arr2 = [1, 2, 5, 7, 9]\n",
    "arr3 = [1, 3, 4, 5, 8]\n",
    "\n",
    "result = intersect(arr1, arr2, arr3)\n",
    "print(result)\n"
   ]
  },
  {
   "cell_type": "code",
   "execution_count": 3,
   "id": "d6ffe909-ac1e-40d7-8a55-d2e0df1b65b4",
   "metadata": {},
   "outputs": [],
   "source": [
    "#2.\n",
    "def findDisjoint(nums1, nums2):\n",
    "    set1 = set(nums1)\n",
    "    set2 = set(nums2)\n",
    "    answer = [[], []]\n",
    "\n",
    "    for num in nums1:\n",
    "        if num not in set2:\n",
    "            answer[0].append(num)\n",
    "\n",
    "    for num in nums2:\n",
    "        if num not in set1:\n",
    "            answer[1].append(num)\n",
    "\n",
    "    return answer\n"
   ]
  },
  {
   "cell_type": "code",
   "execution_count": 4,
   "id": "bcfeadd0-ca61-4f16-8039-7f48e5218cd6",
   "metadata": {},
   "outputs": [
    {
     "name": "stdout",
     "output_type": "stream",
     "text": [
      "[[1, 3], [4, 6]]\n"
     ]
    }
   ],
   "source": [
    "nums1 = [1, 2, 3]\n",
    "nums2 = [2, 4, 6]\n",
    "\n",
    "result = findDisjoint(nums1, nums2)\n",
    "print(result)\n"
   ]
  },
  {
   "cell_type": "code",
   "execution_count": 5,
   "id": "d3fae23f-d416-42eb-a322-cee873c637c8",
   "metadata": {},
   "outputs": [],
   "source": [
    "#3.\n",
    "def transpose(matrix):\n",
    "    rows = len(matrix)\n",
    "    columns = len(matrix[0])\n",
    "    transposed = [[0] * rows for _ in range(columns)]\n",
    "    \n",
    "    for i in range(rows):\n",
    "        for j in range(columns):\n",
    "            transposed[j][i] = matrix[i][j]\n",
    "            \n",
    "    return transposed"
   ]
  },
  {
   "cell_type": "code",
   "execution_count": 6,
   "id": "6b642e84-f675-4b6c-ba27-cb0cea063fb5",
   "metadata": {},
   "outputs": [
    {
     "name": "stdout",
     "output_type": "stream",
     "text": [
      "[[1, 4, 7], [2, 5, 8], [32, 6, 9]]\n"
     ]
    }
   ],
   "source": [
    "matrix = [[1,2,32,],[4,5,6],[7,8,9]]\n",
    "\n",
    "result = transpose(matrix)\n",
    "print(result)"
   ]
  },
  {
   "cell_type": "code",
   "execution_count": 7,
   "id": "0c1772de-4864-4a10-9120-eb6f6910220e",
   "metadata": {},
   "outputs": [],
   "source": [
    "#4.\n",
    "def arrayPairSum(nums):\n",
    "    nums.sort()\n",
    "    max_sum = 0\n",
    "    for i in range(0, len(nums), 2):\n",
    "        max_sum += nums[i]\n",
    "    return max_sum"
   ]
  },
  {
   "cell_type": "code",
   "execution_count": 8,
   "id": "7ccef9a9-cdf0-47b7-a694-58fa89308b83",
   "metadata": {},
   "outputs": [
    {
     "name": "stdout",
     "output_type": "stream",
     "text": [
      "4\n"
     ]
    }
   ],
   "source": [
    "nums = [1,4,3,2]\n",
    "\n",
    "result = arrayPairSum(nums)\n",
    "print(result)"
   ]
  },
  {
   "cell_type": "code",
   "execution_count": 9,
   "id": "117bb0c3-d249-4aec-84e0-c5a2f33caf2d",
   "metadata": {},
   "outputs": [],
   "source": [
    "#5.\n",
    "def arrangeCoins(n):\n",
    "    k = 1\n",
    "    while (k * (k+1)) // 2 <= n:\n",
    "        k += 1\n",
    "        \n",
    "    return k - 1"
   ]
  },
  {
   "cell_type": "code",
   "execution_count": 10,
   "id": "21e35643-354b-4113-aaaa-bbee4f001d91",
   "metadata": {},
   "outputs": [
    {
     "name": "stdout",
     "output_type": "stream",
     "text": [
      "2\n"
     ]
    }
   ],
   "source": [
    "n = 5\n",
    "result = arrangeCoins(n)\n",
    "print(result)"
   ]
  },
  {
   "cell_type": "code",
   "execution_count": 11,
   "id": "70b945c9-47d1-4ddd-8696-10532c989d1d",
   "metadata": {},
   "outputs": [],
   "source": [
    "#6.\n",
    "def sortedSquares(nums):\n",
    "    squared = [num ** 2 for num in nums]\n",
    "    squared.sort()\n",
    "    return squared"
   ]
  },
  {
   "cell_type": "code",
   "execution_count": 12,
   "id": "7b8acb8a-bb33-41e0-8991-41d6eea7374c",
   "metadata": {},
   "outputs": [
    {
     "name": "stdout",
     "output_type": "stream",
     "text": [
      "[0, 1, 9, 16, 100]\n"
     ]
    }
   ],
   "source": [
    "nums = [-4,-1,0,3,10,]\n",
    "result = sortedSquares(nums)\n",
    "print(result)"
   ]
  },
  {
   "cell_type": "code",
   "execution_count": 13,
   "id": "e941d8e7-46d2-4e28-b6eb-aa320d4883d4",
   "metadata": {},
   "outputs": [],
   "source": [
    "#7.\n",
    "def maxCount(m,n,ops):\n",
    "    min_a = m\n",
    "    min_b = n\n",
    "    \n",
    "    for op in ops:\n",
    "        min_a = min(min_a, op[0])\n",
    "        min_b = min(min_b, op[1])\n",
    "        \n",
    "    return min_a * min_b\n"
   ]
  },
  {
   "cell_type": "code",
   "execution_count": 14,
   "id": "6da59736-2be0-4f0b-818b-cd8d674df218",
   "metadata": {},
   "outputs": [
    {
     "name": "stdout",
     "output_type": "stream",
     "text": [
      "4\n"
     ]
    }
   ],
   "source": [
    "m= 3\n",
    "n= 3 \n",
    "ops= [[2,2],[3,3]]\n",
    "\n",
    "result = maxCount(m,n,ops)\n",
    "print(result)"
   ]
  },
  {
   "cell_type": "code",
   "execution_count": null,
   "id": "e2ea5e94-4e3c-4646-99a9-a24678e95c8d",
   "metadata": {},
   "outputs": [],
   "source": [
    "#8.\n",
    "def "
   ]
  }
 ],
 "metadata": {
  "kernelspec": {
   "display_name": "Python 3 (ipykernel)",
   "language": "python",
   "name": "python3"
  },
  "language_info": {
   "codemirror_mode": {
    "name": "ipython",
    "version": 3
   },
   "file_extension": ".py",
   "mimetype": "text/x-python",
   "name": "python",
   "nbconvert_exporter": "python",
   "pygments_lexer": "ipython3",
   "version": "3.10.8"
  }
 },
 "nbformat": 4,
 "nbformat_minor": 5
}
